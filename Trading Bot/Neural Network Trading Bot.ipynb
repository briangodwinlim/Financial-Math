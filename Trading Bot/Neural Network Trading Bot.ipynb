{
 "cells": [
  {
   "cell_type": "markdown",
   "metadata": {},
   "source": [
    "# Neural Network Trading Bot \n",
    "\n",
    "Using historical stock data, we build a LSTM model to classify whether to buy, sell, or hold.\n",
    "\n",
    "Note: this project is for educational purposes only."
   ]
  },
  {
   "cell_type": "markdown",
   "metadata": {},
   "source": [
    "## Import Libraries"
   ]
  },
  {
   "cell_type": "code",
   "execution_count": 2,
   "metadata": {
    "id": "NxHt59s_VZK-"
   },
   "outputs": [
    {
     "name": "stdout",
     "output_type": "stream",
     "text": [
      "1 Physical GPUs, 1 Logical GPUs\n"
     ]
    }
   ],
   "source": [
    "import pandas as pd                      # Pandas\n",
    "import numpy as np                       # Numpy\n",
    "import ta                                # Technical analysis\n",
    "from psequant import get_pse_data        # Get Philippine Stock Exchange (PSE) data\n",
    "import warnings                          # Ignore warnings\n",
    "import matplotlib.pyplot as plt          # Plotting\n",
    "import tensorflow as tf                  # Tensorflow\n",
    "\n",
    "from keras.layers.core import Dense, Activation, Dropout\n",
    "from keras.layers.recurrent import LSTM\n",
    "from keras.layers import Bidirectional, BatchNormalization, Reshape, LeakyReLU\n",
    "from keras.models import Sequential\n",
    "from keras.metrics import CategoricalAccuracy\n",
    "\n",
    "pd.set_option('display.max_rows', None)\n",
    "warnings.filterwarnings(\"ignore\")\n",
    "\n",
    "gpus = tf.config.list_physical_devices('GPU')\n",
    "for gpu in gpus:\n",
    "    tf.config.experimental.set_memory_growth(gpu, True)\n",
    "    logical_gpus = tf.config.list_logical_devices('GPU')\n",
    "    print(len(gpus), \"Physical GPUs,\", len(logical_gpus), \"Logical GPUs\")"
   ]
  },
  {
   "cell_type": "markdown",
   "metadata": {},
   "source": [
    "## Function Implementation"
   ]
  },
  {
   "cell_type": "code",
   "execution_count": 3,
   "metadata": {},
   "outputs": [],
   "source": [
    "def get_ta(df):\n",
    "    \"\"\" Add commonly used technical indicators to features using the TA library\"\"\"\n",
    "\n",
    "    df['EMA10'] = ta.trend.EMAIndicator(df['close'], window = 10).ema_indicator()\n",
    "    df['EMA20'] = ta.trend.EMAIndicator(df['close'], window = 20).ema_indicator()\n",
    "    df['EMA50'] = ta.trend.EMAIndicator(df['close'], window = 50).ema_indicator()\n",
    "    df['EMA100'] = ta.trend.EMAIndicator(df['close'], window = 100).ema_indicator()\n",
    "\n",
    "    df['MA10'] = ta.trend.SMAIndicator(df['close'], window = 10).sma_indicator()\n",
    "    df['MA20'] = ta.trend.SMAIndicator(df['close'], window = 20).sma_indicator()\n",
    "    df['MA50'] = ta.trend.SMAIndicator(df['close'], window = 50).sma_indicator()\n",
    "    df['MA100'] = ta.trend.SMAIndicator(df['close'], window = 100).sma_indicator()\n",
    "\n",
    "    df['ADX'] = ta.trend.ADXIndicator(df['high'], df['low'], df['close']).adx()\n",
    "\n",
    "    macd_hist = ta.trend.MACD(df['close'])\n",
    "    df['MACD Diff'] = macd_hist.macd_diff()\n",
    "    df['MACD Line'] = macd_hist.macd()\n",
    "    df['Signal Line'] = macd_hist.macd_signal()\n",
    "\n",
    "    df['RSI'] = ta.momentum.rsi(df['close'])\n",
    "\n",
    "    return df "
   ]
  },
  {
   "cell_type": "code",
   "execution_count": 4,
   "metadata": {},
   "outputs": [],
   "source": [
    "def get_classification(df, lag = 15, threshold = 1):    \n",
    "    \"\"\" Get the classification of each candle stick based on next close.\n",
    "        We want to classify breakouts (Buy), breakdowns (Sell), and consolidations (Hold).\n",
    "        We base the classification on some support and resistance lines.\n",
    "    \"\"\"\n",
    "\n",
    "    df['upper'] = df.apply(lambda df: max(df['close'], df['open']), axis = 1)\n",
    "    df['lower'] = df.apply(lambda df: min(df['close'], df['open']), axis = 1)\n",
    "    df['max upper'] = df['upper']\n",
    "    df['min lower'] = df['lower']\n",
    "\n",
    "    for i in range(1, lag):\n",
    "        df[f'UB{i}'] = df['upper'].shift(i)\n",
    "        df[f'LB{i}'] = df['lower'].shift(i)\n",
    "        df['max upper'] = df.apply(lambda df: max(df['max upper'], df[f'UB{i}']), axis = 1)\n",
    "        df['min lower'] = df.apply(lambda df: min(df['min lower'], df[f'LB{i}']), axis = 1)\n",
    "        df.drop([f'UB{i}', f'LB{i}'], axis = 1, inplace = True)\n",
    "\n",
    "    df['next_close'] = df['close'].shift(-1)\n",
    "    \n",
    "    df['breakout'] = df.apply(lambda df: \n",
    "            1 if df['next_close'] > (1 + threshold / 100) * df['max upper'] else 0, \n",
    "            axis = 1)\n",
    "    df['breakdown'] = df.apply(lambda df:\n",
    "            1 if df['next_close'] < (1 - threshold / 100) * df['min lower'] else 0,\n",
    "            axis = 1)\n",
    "    df['consolidating'] = 1 - df['breakout'] - df['breakdown']\n",
    "\n",
    "    df.dropna(inplace = True)\n",
    "\n",
    "    return df.drop(['next_close', 'upper', 'lower', 'max upper', 'min lower'], axis = 1)"
   ]
  },
  {
   "cell_type": "code",
   "execution_count": 5,
   "metadata": {},
   "outputs": [],
   "source": [
    "def split_io(df, lag = 15):\n",
    "    input = []\n",
    "    output = [] \n",
    "    \n",
    "    for index in range(lag,df.shape[0]):\n",
    "        input.append(\n",
    "            np.array(\n",
    "                df.drop(['consolidating', 'breakout', 'breakdown'], axis = 1)[index - lag : index]\n",
    "            )\n",
    "        )\n",
    "        output.append(\n",
    "            np.array(\n",
    "                df[['consolidating', 'breakout', 'breakdown']][index - 1 : index]\n",
    "            )\n",
    "        )\n",
    "\n",
    "    return np.array(input), np.array(output)"
   ]
  },
  {
   "cell_type": "code",
   "execution_count": 6,
   "metadata": {},
   "outputs": [],
   "source": [
    "def get_splitted_data(df, split = 100):\n",
    "    df = get_ta(df)\n",
    "    df = get_classification(df)\n",
    "    if 'dt' in df.columns:\n",
    "        df.drop('dt', axis = 1, inplace = True)\n",
    "    input, output = split_io(df)\n",
    "    \n",
    "    train_input = input[:-split]\n",
    "    train_output = output[:-split]\n",
    "    test_input = input[-split:]\n",
    "    test_output = output[-split:]\n",
    "    \n",
    "    return train_input, train_output, test_input, test_output"
   ]
  },
  {
   "cell_type": "code",
   "execution_count": 7,
   "metadata": {},
   "outputs": [],
   "source": [
    "def plot_fit(model_fit):\n",
    "    plt.plot(model_fit.history['accuracy'])\n",
    "    plt.plot(model_fit.history['val_accuracy'])\n",
    "    plt.title('model accuracy')\n",
    "    plt.ylabel('accuracy')\n",
    "    plt.xlabel('epoch')\n",
    "    plt.legend(['train', 'test'], loc = 'upper left')\n",
    "    plt.show()\n",
    "    \n",
    "    plt.plot(model_fit.history['loss'])\n",
    "    plt.plot(model_fit.history['val_loss'])\n",
    "    plt.title('model loss')\n",
    "    plt.ylabel('loss')\n",
    "    plt.xlabel('epoch')\n",
    "    plt.legend(['train', 'test'], loc = 'upper left')\n",
    "    plt.show()"
   ]
  },
  {
   "cell_type": "markdown",
   "metadata": {},
   "source": [
    "## Building and Training the Model"
   ]
  },
  {
   "cell_type": "markdown",
   "metadata": {},
   "source": [
    "Using `get_pse_data`, we get historical stock data. We then split the data into training and test data using `get_splitted_data`."
   ]
  },
  {
   "cell_type": "code",
   "execution_count": 12,
   "metadata": {},
   "outputs": [
    {
     "name": "stdout",
     "output_type": "stream",
     "text": [
      "Stock table exists!\n",
      "Reading stock_table.csv ...\n",
      "Input shape: (15, 18)\n",
      "Output shape: (1, 3)\n"
     ]
    }
   ],
   "source": [
    "df = get_pse_data('JFC', '2000-01-01', '2022-12-31')\n",
    "train_input, train_output, test_input, test_output = get_splitted_data(df)\n",
    "print(f\"Input shape: {train_input[0].shape}\")\n",
    "print(f\"Output shape: {train_output[0].shape}\")"
   ]
  },
  {
   "cell_type": "markdown",
   "metadata": {},
   "source": [
    "We built an LSTM model."
   ]
  },
  {
   "cell_type": "code",
   "execution_count": 20,
   "metadata": {},
   "outputs": [
    {
     "name": "stdout",
     "output_type": "stream",
     "text": [
      "Model: \"sequential_2\"\n",
      "_________________________________________________________________\n",
      " Layer (type)                Output Shape              Param #   \n",
      "=================================================================\n",
      " batch_normalization_10 (Bat  (None, 15, 18)           72        \n",
      " chNormalization)                                                \n",
      "                                                                 \n",
      " reshape_2 (Reshape)         (None, 1, 270)            0         \n",
      "                                                                 \n",
      " bidirectional_6 (Bidirectio  (None, 1, 100)           128400    \n",
      " nal)                                                            \n",
      "                                                                 \n",
      " activation_10 (Activation)  (None, 1, 100)            0         \n",
      "                                                                 \n",
      " dropout_14 (Dropout)        (None, 1, 100)            0         \n",
      "                                                                 \n",
      " bidirectional_7 (Bidirectio  (None, 1, 100)           60400     \n",
      " nal)                                                            \n",
      "                                                                 \n",
      " activation_11 (Activation)  (None, 1, 100)            0         \n",
      "                                                                 \n",
      " dropout_15 (Dropout)        (None, 1, 100)            0         \n",
      "                                                                 \n",
      " bidirectional_8 (Bidirectio  (None, 1, 100)           60400     \n",
      " nal)                                                            \n",
      "                                                                 \n",
      " activation_12 (Activation)  (None, 1, 100)            0         \n",
      "                                                                 \n",
      " dropout_16 (Dropout)        (None, 1, 100)            0         \n",
      "                                                                 \n",
      " dense_10 (Dense)            (None, 1, 50)             5050      \n",
      "                                                                 \n",
      " leaky_re_lu_4 (LeakyReLU)   (None, 1, 50)             0         \n",
      "                                                                 \n",
      " dropout_17 (Dropout)        (None, 1, 50)             0         \n",
      "                                                                 \n",
      " batch_normalization_11 (Bat  (None, 1, 50)            200       \n",
      " chNormalization)                                                \n",
      "                                                                 \n",
      " dense_11 (Dense)            (None, 1, 50)             2550      \n",
      "                                                                 \n",
      " leaky_re_lu_5 (LeakyReLU)   (None, 1, 50)             0         \n",
      "                                                                 \n",
      " dropout_18 (Dropout)        (None, 1, 50)             0         \n",
      "                                                                 \n",
      " dense_12 (Dense)            (None, 1, 50)             2550      \n",
      "                                                                 \n",
      " activation_13 (Activation)  (None, 1, 50)             0         \n",
      "                                                                 \n",
      " dropout_19 (Dropout)        (None, 1, 50)             0         \n",
      "                                                                 \n",
      " dense_13 (Dense)            (None, 1, 50)             2550      \n",
      "                                                                 \n",
      " activation_14 (Activation)  (None, 1, 50)             0         \n",
      "                                                                 \n",
      " dropout_20 (Dropout)        (None, 1, 50)             0         \n",
      "                                                                 \n",
      " dense_14 (Dense)            (None, 1, 3)              153       \n",
      "                                                                 \n",
      "=================================================================\n",
      "Total params: 262,325\n",
      "Trainable params: 262,189\n",
      "Non-trainable params: 136\n",
      "_________________________________________________________________\n"
     ]
    }
   ],
   "source": [
    "window_size = 50\n",
    "dropout = 0.1\n",
    "\n",
    "model = Sequential()\n",
    "\n",
    "model.add(BatchNormalization(input_shape=train_input[0].shape))\n",
    "model.add(Reshape((1,-1)))\n",
    "\n",
    "model.add(Bidirectional(LSTM(window_size, return_sequences = True)))\n",
    "model.add(Activation('sigmoid'))\n",
    "model.add(Dropout(dropout))\n",
    "\n",
    "model.add(Bidirectional(LSTM(window_size, return_sequences = True)))\n",
    "model.add(Activation('sigmoid'))\n",
    "model.add(Dropout(dropout))\n",
    "\n",
    "model.add(Bidirectional(LSTM(window_size, return_sequences = True)))\n",
    "model.add(Activation('sigmoid'))\n",
    "model.add(Dropout(dropout))\n",
    "\n",
    "model.add(Dense(units = window_size))\n",
    "model.add(LeakyReLU(alpha=0.05))\n",
    "model.add(Dropout(dropout))\n",
    "model.add(BatchNormalization())\n",
    "\n",
    "model.add(Dense(units = window_size))\n",
    "model.add(LeakyReLU(alpha=0.05))\n",
    "model.add(Dropout(dropout))\n",
    "\n",
    "model.add(Dense(units = window_size))\n",
    "model.add(Activation('relu'))\n",
    "model.add(Dropout(dropout))\n",
    "\n",
    "model.add(Dense(units = window_size))\n",
    "model.add(Activation('relu'))\n",
    "model.add(Dropout(dropout))\n",
    "\n",
    "model.add(Dense(units = 3, activation = 'softmax'))\n",
    "\n",
    "model.compile(loss = 'categorical_crossentropy', optimizer = 'adam', \n",
    "        metrics = ['accuracy'])\n",
    "\n",
    "model.summary()"
   ]
  },
  {
   "cell_type": "code",
   "execution_count": 21,
   "metadata": {},
   "outputs": [
    {
     "name": "stdout",
     "output_type": "stream",
     "text": [
      "Epoch 1/50\n",
      "67/67 [==============================] - 16s 79ms/step - loss: 0.3681 - accuracy: 0.9311 - val_loss: 0.4759 - val_accuracy: 0.8914\n",
      "Epoch 2/50\n",
      "67/67 [==============================] - 4s 62ms/step - loss: 0.3035 - accuracy: 0.9362 - val_loss: 0.4459 - val_accuracy: 0.8914\n",
      "Epoch 3/50\n",
      "67/67 [==============================] - 4s 61ms/step - loss: 0.3110 - accuracy: 0.9362 - val_loss: 0.4797 - val_accuracy: 0.8914\n",
      "Epoch 4/50\n",
      "67/67 [==============================] - 4s 62ms/step - loss: 0.2983 - accuracy: 0.9362 - val_loss: 0.4149 - val_accuracy: 0.8914\n",
      "Epoch 5/50\n",
      "67/67 [==============================] - 6s 91ms/step - loss: 0.3018 - accuracy: 0.9362 - val_loss: 0.4339 - val_accuracy: 0.8914\n",
      "Epoch 6/50\n",
      "67/67 [==============================] - 7s 101ms/step - loss: 0.3086 - accuracy: 0.9362 - val_loss: 0.4681 - val_accuracy: 0.8914\n",
      "Epoch 7/50\n",
      "67/67 [==============================] - 4s 64ms/step - loss: 0.2981 - accuracy: 0.9362 - val_loss: 0.4308 - val_accuracy: 0.8914\n",
      "Epoch 8/50\n",
      "67/67 [==============================] - 5s 80ms/step - loss: 0.2889 - accuracy: 0.9362 - val_loss: 0.4744 - val_accuracy: 0.8914\n",
      "Epoch 9/50\n",
      "67/67 [==============================] - 6s 85ms/step - loss: 0.3055 - accuracy: 0.9362 - val_loss: 0.4761 - val_accuracy: 0.8914\n",
      "Epoch 10/50\n",
      "67/67 [==============================] - 4s 62ms/step - loss: 0.2960 - accuracy: 0.9362 - val_loss: 0.4405 - val_accuracy: 0.8914\n",
      "Epoch 11/50\n",
      "67/67 [==============================] - 4s 61ms/step - loss: 0.2920 - accuracy: 0.9362 - val_loss: 0.4667 - val_accuracy: 0.8914\n",
      "Epoch 12/50\n",
      "67/67 [==============================] - 5s 68ms/step - loss: 0.2959 - accuracy: 0.9362 - val_loss: 0.4733 - val_accuracy: 0.8914\n",
      "Epoch 13/50\n",
      "67/67 [==============================] - 7s 108ms/step - loss: 0.2997 - accuracy: 0.9362 - val_loss: 0.4530 - val_accuracy: 0.8914\n",
      "Epoch 14/50\n",
      "67/67 [==============================] - 7s 105ms/step - loss: 0.2907 - accuracy: 0.9362 - val_loss: 0.4797 - val_accuracy: 0.8914\n",
      "Epoch 15/50\n",
      "67/67 [==============================] - 7s 106ms/step - loss: 0.2946 - accuracy: 0.9362 - val_loss: 0.4500 - val_accuracy: 0.8914\n",
      "Epoch 16/50\n",
      "67/67 [==============================] - 6s 94ms/step - loss: 0.2937 - accuracy: 0.9362 - val_loss: 0.4639 - val_accuracy: 0.8914\n",
      "Epoch 17/50\n",
      "67/67 [==============================] - 7s 110ms/step - loss: 0.2960 - accuracy: 0.9362 - val_loss: 0.4228 - val_accuracy: 0.8914\n",
      "Epoch 18/50\n",
      "67/67 [==============================] - 5s 72ms/step - loss: 0.2987 - accuracy: 0.9362 - val_loss: 0.4546 - val_accuracy: 0.8914\n",
      "Epoch 19/50\n",
      "67/67 [==============================] - 4s 63ms/step - loss: 0.2901 - accuracy: 0.9362 - val_loss: 0.4252 - val_accuracy: 0.8914\n",
      "Epoch 20/50\n",
      "67/67 [==============================] - 4s 63ms/step - loss: 0.2920 - accuracy: 0.9362 - val_loss: 0.4304 - val_accuracy: 0.8914\n",
      "Epoch 21/50\n",
      "67/67 [==============================] - 4s 63ms/step - loss: 0.2917 - accuracy: 0.9362 - val_loss: 0.4392 - val_accuracy: 0.8914\n",
      "Epoch 22/50\n",
      "67/67 [==============================] - 4s 64ms/step - loss: 0.2906 - accuracy: 0.9362 - val_loss: 0.4622 - val_accuracy: 0.8914\n",
      "Epoch 23/50\n",
      "67/67 [==============================] - 4s 64ms/step - loss: 0.2936 - accuracy: 0.9362 - val_loss: 0.4616 - val_accuracy: 0.8914\n",
      "Epoch 24/50\n",
      "67/67 [==============================] - 4s 61ms/step - loss: 0.2894 - accuracy: 0.9362 - val_loss: 0.4269 - val_accuracy: 0.8914\n",
      "Epoch 25/50\n",
      "67/67 [==============================] - 4s 63ms/step - loss: 0.2923 - accuracy: 0.9362 - val_loss: 0.4535 - val_accuracy: 0.8914\n",
      "Epoch 26/50\n",
      "67/67 [==============================] - 4s 64ms/step - loss: 0.2880 - accuracy: 0.9362 - val_loss: 0.4532 - val_accuracy: 0.8914\n",
      "Epoch 27/50\n",
      "67/67 [==============================] - 4s 62ms/step - loss: 0.2839 - accuracy: 0.9362 - val_loss: 0.4349 - val_accuracy: 0.8914\n",
      "Epoch 28/50\n",
      "67/67 [==============================] - 4s 61ms/step - loss: 0.2894 - accuracy: 0.9362 - val_loss: 0.4201 - val_accuracy: 0.8914\n",
      "Epoch 29/50\n",
      "67/67 [==============================] - 4s 61ms/step - loss: 0.2799 - accuracy: 0.9362 - val_loss: 0.4247 - val_accuracy: 0.8914\n",
      "Epoch 30/50\n",
      "67/67 [==============================] - 4s 61ms/step - loss: 0.2792 - accuracy: 0.9362 - val_loss: 0.4365 - val_accuracy: 0.8914\n",
      "Epoch 31/50\n",
      "67/67 [==============================] - 4s 62ms/step - loss: 0.2784 - accuracy: 0.9362 - val_loss: 0.4316 - val_accuracy: 0.8914\n",
      "Epoch 32/50\n",
      "67/67 [==============================] - 4s 59ms/step - loss: 0.2782 - accuracy: 0.9362 - val_loss: 0.4275 - val_accuracy: 0.8914\n",
      "Epoch 33/50\n",
      "67/67 [==============================] - 4s 61ms/step - loss: 0.2753 - accuracy: 0.9362 - val_loss: 0.4378 - val_accuracy: 0.8914\n",
      "Epoch 34/50\n",
      "67/67 [==============================] - 4s 61ms/step - loss: 0.2789 - accuracy: 0.9362 - val_loss: 0.4284 - val_accuracy: 0.8914\n",
      "Epoch 35/50\n",
      "67/67 [==============================] - 4s 61ms/step - loss: 0.2785 - accuracy: 0.9362 - val_loss: 0.4301 - val_accuracy: 0.8914\n",
      "Epoch 36/50\n",
      "67/67 [==============================] - 4s 61ms/step - loss: 0.2695 - accuracy: 0.9362 - val_loss: 0.4524 - val_accuracy: 0.8914\n",
      "Epoch 37/50\n",
      "67/67 [==============================] - 4s 62ms/step - loss: 0.2710 - accuracy: 0.9362 - val_loss: 0.4386 - val_accuracy: 0.8914\n",
      "Epoch 38/50\n",
      "67/67 [==============================] - 4s 59ms/step - loss: 0.2699 - accuracy: 0.9362 - val_loss: 0.4263 - val_accuracy: 0.8914\n",
      "Epoch 39/50\n",
      "67/67 [==============================] - 4s 64ms/step - loss: 0.2693 - accuracy: 0.9362 - val_loss: 0.4355 - val_accuracy: 0.8914\n",
      "Epoch 40/50\n",
      "67/67 [==============================] - 4s 63ms/step - loss: 0.2644 - accuracy: 0.9362 - val_loss: 0.4414 - val_accuracy: 0.8914\n",
      "Epoch 41/50\n",
      "67/67 [==============================] - 4s 63ms/step - loss: 0.2632 - accuracy: 0.9362 - val_loss: 0.4918 - val_accuracy: 0.8914\n",
      "Epoch 42/50\n",
      "67/67 [==============================] - 4s 60ms/step - loss: 0.2562 - accuracy: 0.9362 - val_loss: 0.4735 - val_accuracy: 0.8914\n",
      "Epoch 43/50\n",
      "67/67 [==============================] - 4s 62ms/step - loss: 0.2512 - accuracy: 0.9362 - val_loss: 0.4975 - val_accuracy: 0.8914\n",
      "Epoch 44/50\n",
      "67/67 [==============================] - 4s 64ms/step - loss: 0.2613 - accuracy: 0.9362 - val_loss: 0.6410 - val_accuracy: 0.8914\n",
      "Epoch 45/50\n",
      "67/67 [==============================] - 4s 63ms/step - loss: 0.2650 - accuracy: 0.9362 - val_loss: 0.5396 - val_accuracy: 0.8914\n",
      "Epoch 46/50\n",
      "67/67 [==============================] - 4s 60ms/step - loss: 0.2581 - accuracy: 0.9362 - val_loss: 0.4655 - val_accuracy: 0.8914\n",
      "Epoch 47/50\n",
      "67/67 [==============================] - 4s 61ms/step - loss: 0.2528 - accuracy: 0.9362 - val_loss: 0.4854 - val_accuracy: 0.8914\n",
      "Epoch 48/50\n",
      "67/67 [==============================] - 4s 62ms/step - loss: 0.2605 - accuracy: 0.9362 - val_loss: 0.4902 - val_accuracy: 0.8914\n",
      "Epoch 49/50\n",
      "67/67 [==============================] - 4s 61ms/step - loss: 0.2555 - accuracy: 0.9362 - val_loss: 0.5490 - val_accuracy: 0.8914\n",
      "Epoch 50/50\n",
      "67/67 [==============================] - 4s 63ms/step - loss: 0.2550 - accuracy: 0.9362 - val_loss: 0.4879 - val_accuracy: 0.8914\n"
     ]
    }
   ],
   "source": [
    "model_fit = model.fit(train_input, train_output, epochs = 50, validation_split = 0.2)"
   ]
  },
  {
   "cell_type": "code",
   "execution_count": 22,
   "metadata": {},
   "outputs": [
    {
     "data": {
      "image/png": "[encoded data removed]",
      "text/plain": [
       "<Figure size 432x288 with 1 Axes>"
      ]
     },
     "metadata": {
      "needs_background": "light"
     },
     "output_type": "display_data"
    },
    {
     "data": {
      "image/png": "[encoded data removed]",
      "text/plain": [
       "<Figure size 432x288 with 1 Axes>"
      ]
     },
     "metadata": {
      "needs_background": "light"
     },
     "output_type": "display_data"
    }
   ],
   "source": [
    "plot_fit(model_fit)"
   ]
  },
  {
   "cell_type": "markdown",
   "metadata": {},
   "source": [
    "We check the performance of our model against the test data."
   ]
  },
  {
   "cell_type": "code",
   "execution_count": 23,
   "metadata": {},
   "outputs": [
    {
     "name": "stdout",
     "output_type": "stream",
     "text": [
      "Accuracy: 0.8700000047683716\n"
     ]
    }
   ],
   "source": [
    "predictions = model.predict(test_input)\n",
    "m = CategoricalAccuracy()\n",
    "m.update_state(test_output, predictions)\n",
    "print(f\"Accuracy: {m.result().numpy()}\")"
   ]
  }
 ],
 "metadata": {
  "colab": {
   "collapsed_sections": [],
   "name": "Trading Bot.ipynb",
   "provenance": []
  },
  "kernelspec": {
   "display_name": "Python 3",
   "language": "python",
   "name": "python3"
  },
  "language_info": {
   "codemirror_mode": {
    "name": "ipython",
    "version": 3
   },
   "file_extension": ".py",
   "mimetype": "text/x-python",
   "name": "python",
   "nbconvert_exporter": "python",
   "pygments_lexer": "ipython3",
   "version": "3.9.7"
  }
 },
 "nbformat": 4,
 "nbformat_minor": 1
}

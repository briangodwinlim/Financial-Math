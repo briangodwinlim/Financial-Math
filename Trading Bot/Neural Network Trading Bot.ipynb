{
 "cells": [
  {
   "cell_type": "markdown",
   "metadata": {},
   "source": [
    "# Neural Network Trading Bot \n",
    "\n",
    "Using historical stock data, we build a LSTM model to classify whether to buy, sell, or hold.\n",
    "\n",
    "Note: this project is for educational purposes only."
   ]
  },
  {
   "cell_type": "markdown",
   "metadata": {},
   "source": [
    "## Import Libraries"
   ]
  },
  {
   "cell_type": "code",
   "execution_count": null,
   "metadata": {
    "id": "NxHt59s_VZK-"
   },
   "outputs": [],
   "source": [
    "import pandas as pd                      # Pandas\n",
    "import numpy as np                       # Numpy\n",
    "import ta                                # Technical analysis\n",
    "from psequant import get_pse_data        # Get Philippine Stock Exchange (PSE) data\n",
    "import warnings                          # Ignore warnings\n",
    "import matplotlib.pyplot as plt          # Plotting\n",
    "import tensorflow as tf                  # Tensorflow\n",
    "\n",
    "from keras.layers.core import Dense, Activation, Dropout\n",
    "from keras.layers import LSTM, Bidirectional, BatchNormalization, Reshape, LeakyReLU\n",
    "from keras.models import Sequential\n",
    "from keras.metrics import CategoricalAccuracy\n",
    "\n",
    "pd.set_option('display.max_rows', None)\n",
    "warnings.filterwarnings(\"ignore\")\n",
    "\n",
    "# gpus = tf.config.list_physical_devices('GPU')\n",
    "# for gpu in gpus:\n",
    "#     tf.config.experimental.set_memory_growth(gpu, True)\n",
    "#     logical_gpus = tf.config.list_logical_devices('GPU')\n",
    "#     print(len(gpus), \"Physical GPUs,\", len(logical_gpus), \"Logical GPUs\")"
   ]
  },
  {
   "cell_type": "markdown",
   "metadata": {},
   "source": [
    "## Function Implementation"
   ]
  },
  {
   "cell_type": "code",
   "execution_count": 2,
   "metadata": {},
   "outputs": [],
   "source": [
    "def get_ta(df):\n",
    "    \"\"\" Add commonly used technical indicators to features using the TA library\n",
    "    \"\"\"\n",
    "\n",
    "    df['EMA10'] = ta.trend.EMAIndicator(df['close'], window = 10).ema_indicator()\n",
    "    df['EMA20'] = ta.trend.EMAIndicator(df['close'], window = 20).ema_indicator()\n",
    "    df['EMA50'] = ta.trend.EMAIndicator(df['close'], window = 50).ema_indicator()\n",
    "    df['EMA100'] = ta.trend.EMAIndicator(df['close'], window = 100).ema_indicator()\n",
    "\n",
    "    df['MA10'] = ta.trend.SMAIndicator(df['close'], window = 10).sma_indicator()\n",
    "    df['MA20'] = ta.trend.SMAIndicator(df['close'], window = 20).sma_indicator()\n",
    "    df['MA50'] = ta.trend.SMAIndicator(df['close'], window = 50).sma_indicator()\n",
    "    df['MA100'] = ta.trend.SMAIndicator(df['close'], window = 100).sma_indicator()\n",
    "\n",
    "    df['ADX'] = ta.trend.ADXIndicator(df['high'], df['low'], df['close']).adx()\n",
    "\n",
    "    macd_hist = ta.trend.MACD(df['close'])\n",
    "    df['MACD Diff'] = macd_hist.macd_diff()\n",
    "    df['MACD Line'] = macd_hist.macd()\n",
    "    df['Signal Line'] = macd_hist.macd_signal()\n",
    "\n",
    "    df['RSI'] = ta.momentum.rsi(df['close'])\n",
    "\n",
    "    return df "
   ]
  },
  {
   "cell_type": "code",
   "execution_count": 3,
   "metadata": {},
   "outputs": [],
   "source": [
    "def get_classification(df, lag = 15, threshold = 1):    \n",
    "    \"\"\" Get the classification of each candle stick based on next close.\n",
    "        We want to classify breakouts (Buy), breakdowns (Sell), and consolidations (Hold).\n",
    "        We base the classification on some support and resistance lines.\n",
    "    \"\"\"\n",
    "\n",
    "    df['upper'] = df.apply(lambda df: max(df['close'], df['open']), axis = 1)\n",
    "    df['lower'] = df.apply(lambda df: min(df['close'], df['open']), axis = 1)\n",
    "    df['max_upper'] = df['upper'].rolling(window=lag).max()\n",
    "    df['min_lower'] = df['lower'].rolling(window=lag).max()\n",
    "\n",
    "    df['next_close'] = df['close'].shift(-1)\n",
    "    df.dropna(inplace = True)\n",
    "    \n",
    "    df['breakout'] = df.apply(lambda df: \n",
    "            1 if df['next_close'] > (1 + threshold / 100) * df['max_upper'] else 0, \n",
    "            axis = 1)\n",
    "    df['breakdown'] = df.apply(lambda df:\n",
    "            1 if df['next_close'] < (1 - threshold / 100) * df['min_lower'] else 0,\n",
    "            axis = 1)\n",
    "    df['consolidating'] = 1 - df['breakout'] - df['breakdown']\n",
    "\n",
    "    return df.drop(['next_close', 'upper', 'lower', 'max_upper', 'min_lower'], axis = 1)"
   ]
  },
  {
   "cell_type": "code",
   "execution_count": 4,
   "metadata": {},
   "outputs": [],
   "source": [
    "def split_io(df, lag = 15):\n",
    "    input = []\n",
    "    output = [] \n",
    "    \n",
    "    for index in range(lag,df.shape[0]):\n",
    "        input.append(\n",
    "            np.array(\n",
    "                df.drop(['consolidating', 'breakout', 'breakdown'], axis = 1)[index - lag : index]\n",
    "            )\n",
    "        )\n",
    "        output.append(\n",
    "            np.array(\n",
    "                df[['consolidating', 'breakout', 'breakdown']][index - 1 : index]\n",
    "            )\n",
    "        )\n",
    "\n",
    "    return np.array(input), np.array(output)"
   ]
  },
  {
   "cell_type": "code",
   "execution_count": 5,
   "metadata": {},
   "outputs": [],
   "source": [
    "def get_splitted_data(df, split = 100):\n",
    "    df = get_ta(df)\n",
    "    df = get_classification(df)\n",
    "    if 'dt' in df.columns:\n",
    "        df.drop('dt', axis = 1, inplace = True)\n",
    "    input, output = split_io(df)\n",
    "    \n",
    "    train_input = input[:-split]\n",
    "    train_output = output[:-split]\n",
    "    test_input = input[-split:]\n",
    "    test_output = output[-split:]\n",
    "    \n",
    "    return train_input, train_output, test_input, test_output"
   ]
  },
  {
   "cell_type": "code",
   "execution_count": 6,
   "metadata": {},
   "outputs": [],
   "source": [
    "def plot_fit(model_fit):\n",
    "    plt.plot(model_fit.history['accuracy'])\n",
    "    plt.plot(model_fit.history['val_accuracy'])\n",
    "    plt.title('model accuracy')\n",
    "    plt.ylabel('accuracy')\n",
    "    plt.xlabel('epoch')\n",
    "    plt.legend(['train', 'test'], loc = 'upper left')\n",
    "    plt.show()\n",
    "    \n",
    "    plt.plot(model_fit.history['loss'])\n",
    "    plt.plot(model_fit.history['val_loss'])\n",
    "    plt.title('model loss')\n",
    "    plt.ylabel('loss')\n",
    "    plt.xlabel('epoch')\n",
    "    plt.legend(['train', 'test'], loc = 'upper left')\n",
    "    plt.show()"
   ]
  },
  {
   "cell_type": "markdown",
   "metadata": {},
   "source": [
    "## Building and Training the Model"
   ]
  },
  {
   "cell_type": "markdown",
   "metadata": {},
   "source": [
    "Using `get_pse_data`, we get historical stock data. We then split the data into training and test data using `get_splitted_data`."
   ]
  },
  {
   "cell_type": "code",
   "execution_count": 7,
   "metadata": {},
   "outputs": [
    {
     "name": "stdout",
     "output_type": "stream",
     "text": [
      "Stock table exists!\n",
      "Reading stock_table.csv ...\n",
      "Input shape: (15, 18)\n",
      "Output shape: (1, 3)\n"
     ]
    }
   ],
   "source": [
    "df = get_pse_data('JFC', '2000-01-01', '2022-12-31')\n",
    "train_input, train_output, test_input, test_output = get_splitted_data(df)\n",
    "print(f\"Input shape: {train_input[0].shape}\")\n",
    "print(f\"Output shape: {train_output[0].shape}\")"
   ]
  },
  {
   "cell_type": "markdown",
   "metadata": {},
   "source": [
    "We built an LSTM model."
   ]
  },
  {
   "cell_type": "code",
   "execution_count": 8,
   "metadata": {},
   "outputs": [
    {
     "name": "stderr",
     "output_type": "stream",
     "text": [
      "2022-06-17 14:44:10.572161: I tensorflow/stream_executor/cuda/cuda_gpu_executor.cc:961] could not open file to read NUMA node: /sys/bus/pci/devices/0000:59:00.0/numa_node\n",
      "Your kernel may have been built without NUMA support.\n",
      "2022-06-17 14:44:10.609060: I tensorflow/stream_executor/cuda/cuda_gpu_executor.cc:961] could not open file to read NUMA node: /sys/bus/pci/devices/0000:59:00.0/numa_node\n",
      "Your kernel may have been built without NUMA support.\n",
      "2022-06-17 14:44:10.609867: I tensorflow/stream_executor/cuda/cuda_gpu_executor.cc:961] could not open file to read NUMA node: /sys/bus/pci/devices/0000:59:00.0/numa_node\n",
      "Your kernel may have been built without NUMA support.\n",
      "2022-06-17 14:44:10.610502: I tensorflow/core/platform/cpu_feature_guard.cc:193] This TensorFlow binary is optimized with oneAPI Deep Neural Network Library (oneDNN) to use the following CPU instructions in performance-critical operations:  AVX2 AVX512F AVX512_VNNI FMA\n",
      "To enable them in other operations, rebuild TensorFlow with the appropriate compiler flags.\n",
      "2022-06-17 14:44:10.613414: I tensorflow/stream_executor/cuda/cuda_gpu_executor.cc:961] could not open file to read NUMA node: /sys/bus/pci/devices/0000:59:00.0/numa_node\n",
      "Your kernel may have been built without NUMA support.\n",
      "2022-06-17 14:44:10.614172: I tensorflow/stream_executor/cuda/cuda_gpu_executor.cc:961] could not open file to read NUMA node: /sys/bus/pci/devices/0000:59:00.0/numa_node\n",
      "Your kernel may have been built without NUMA support.\n",
      "2022-06-17 14:44:10.614806: I tensorflow/stream_executor/cuda/cuda_gpu_executor.cc:961] could not open file to read NUMA node: /sys/bus/pci/devices/0000:59:00.0/numa_node\n",
      "Your kernel may have been built without NUMA support.\n",
      "2022-06-17 14:44:11.529686: I tensorflow/stream_executor/cuda/cuda_gpu_executor.cc:961] could not open file to read NUMA node: /sys/bus/pci/devices/0000:59:00.0/numa_node\n",
      "Your kernel may have been built without NUMA support.\n",
      "2022-06-17 14:44:11.530569: I tensorflow/stream_executor/cuda/cuda_gpu_executor.cc:961] could not open file to read NUMA node: /sys/bus/pci/devices/0000:59:00.0/numa_node\n",
      "Your kernel may have been built without NUMA support.\n",
      "2022-06-17 14:44:11.530611: I tensorflow/core/common_runtime/gpu/gpu_device.cc:1616] Could not identify NUMA node of platform GPU id 0, defaulting to 0.  Your kernel may not have been built with NUMA support.\n",
      "2022-06-17 14:44:11.531541: I tensorflow/stream_executor/cuda/cuda_gpu_executor.cc:961] could not open file to read NUMA node: /sys/bus/pci/devices/0000:59:00.0/numa_node\n",
      "Your kernel may have been built without NUMA support.\n",
      "2022-06-17 14:44:11.531664: I tensorflow/core/common_runtime/gpu/gpu_device.cc:1532] Created device /job:localhost/replica:0/task:0/device:GPU:0 with 1209 MB memory:  -> device: 0, name: NVIDIA GeForce MX450, pci bus id: 0000:59:00.0, compute capability: 7.5\n"
     ]
    },
    {
     "name": "stdout",
     "output_type": "stream",
     "text": [
      "Model: \"sequential\"\n",
      "_________________________________________________________________\n",
      " Layer (type)                Output Shape              Param #   \n",
      "=================================================================\n",
      " batch_normalization (BatchN  (None, 15, 18)           72        \n",
      " ormalization)                                                   \n",
      "                                                                 \n",
      " reshape (Reshape)           (None, 1, 270)            0         \n",
      "                                                                 \n",
      " bidirectional (Bidirectiona  (None, 1, 100)           128400    \n",
      " l)                                                              \n",
      "                                                                 \n",
      " activation (Activation)     (None, 1, 100)            0         \n",
      "                                                                 \n",
      " dropout (Dropout)           (None, 1, 100)            0         \n",
      "                                                                 \n",
      " bidirectional_1 (Bidirectio  (None, 1, 100)           60400     \n",
      " nal)                                                            \n",
      "                                                                 \n",
      " activation_1 (Activation)   (None, 1, 100)            0         \n",
      "                                                                 \n",
      " dropout_1 (Dropout)         (None, 1, 100)            0         \n",
      "                                                                 \n",
      " bidirectional_2 (Bidirectio  (None, 1, 100)           60400     \n",
      " nal)                                                            \n",
      "                                                                 \n",
      " activation_2 (Activation)   (None, 1, 100)            0         \n",
      "                                                                 \n",
      " dropout_2 (Dropout)         (None, 1, 100)            0         \n",
      "                                                                 \n",
      " dense (Dense)               (None, 1, 50)             5050      \n",
      "                                                                 \n",
      " leaky_re_lu (LeakyReLU)     (None, 1, 50)             0         \n",
      "                                                                 \n",
      " dropout_3 (Dropout)         (None, 1, 50)             0         \n",
      "                                                                 \n",
      " batch_normalization_1 (Batc  (None, 1, 50)            200       \n",
      " hNormalization)                                                 \n",
      "                                                                 \n",
      " dense_1 (Dense)             (None, 1, 50)             2550      \n",
      "                                                                 \n",
      " leaky_re_lu_1 (LeakyReLU)   (None, 1, 50)             0         \n",
      "                                                                 \n",
      " dropout_4 (Dropout)         (None, 1, 50)             0         \n",
      "                                                                 \n",
      " dense_2 (Dense)             (None, 1, 50)             2550      \n",
      "                                                                 \n",
      " activation_3 (Activation)   (None, 1, 50)             0         \n",
      "                                                                 \n",
      " dropout_5 (Dropout)         (None, 1, 50)             0         \n",
      "                                                                 \n",
      " dense_3 (Dense)             (None, 1, 50)             2550      \n",
      "                                                                 \n",
      " activation_4 (Activation)   (None, 1, 50)             0         \n",
      "                                                                 \n",
      " dropout_6 (Dropout)         (None, 1, 50)             0         \n",
      "                                                                 \n",
      " dense_4 (Dense)             (None, 1, 3)              153       \n",
      "                                                                 \n",
      "=================================================================\n",
      "Total params: 262,325\n",
      "Trainable params: 262,189\n",
      "Non-trainable params: 136\n",
      "_________________________________________________________________\n"
     ]
    }
   ],
   "source": [
    "window_size = 50\n",
    "dropout = 0.1\n",
    "\n",
    "model = Sequential()\n",
    "\n",
    "model.add(BatchNormalization(input_shape=train_input[0].shape))\n",
    "model.add(Reshape((1,-1)))\n",
    "\n",
    "model.add(Bidirectional(LSTM(window_size, return_sequences = True)))\n",
    "model.add(Activation('sigmoid'))\n",
    "model.add(Dropout(dropout))\n",
    "\n",
    "model.add(Bidirectional(LSTM(window_size, return_sequences = True)))\n",
    "model.add(Activation('sigmoid'))\n",
    "model.add(Dropout(dropout))\n",
    "\n",
    "model.add(Bidirectional(LSTM(window_size, return_sequences = True)))\n",
    "model.add(Activation('sigmoid'))\n",
    "model.add(Dropout(dropout))\n",
    "\n",
    "model.add(Dense(units = window_size))\n",
    "model.add(LeakyReLU(alpha=0.05))\n",
    "model.add(Dropout(dropout))\n",
    "model.add(BatchNormalization())\n",
    "\n",
    "model.add(Dense(units = window_size))\n",
    "model.add(LeakyReLU(alpha=0.05))\n",
    "model.add(Dropout(dropout))\n",
    "\n",
    "model.add(Dense(units = window_size))\n",
    "model.add(Activation('relu'))\n",
    "model.add(Dropout(dropout))\n",
    "\n",
    "model.add(Dense(units = window_size))\n",
    "model.add(Activation('relu'))\n",
    "model.add(Dropout(dropout))\n",
    "\n",
    "model.add(Dense(units = 3, activation = 'softmax'))\n",
    "\n",
    "model.compile(loss = 'categorical_crossentropy', optimizer = 'adam', \n",
    "        metrics = ['accuracy'])\n",
    "\n",
    "model.summary()"
   ]
  },
  {
   "cell_type": "code",
   "execution_count": 9,
   "metadata": {},
   "outputs": [
    {
     "name": "stdout",
     "output_type": "stream",
     "text": [
      "Epoch 1/50\n"
     ]
    },
    {
     "name": "stderr",
     "output_type": "stream",
     "text": [
      "2022-06-17 14:44:21.582952: I tensorflow/stream_executor/cuda/cuda_dnn.cc:384] Loaded cuDNN version 8100\n"
     ]
    },
    {
     "name": "stdout",
     "output_type": "stream",
     "text": [
      "70/70 [==============================] - 15s 67ms/step - loss: 0.8827 - accuracy: 0.5687 - val_loss: 0.9132 - val_accuracy: 0.7058\n",
      "Epoch 2/50\n",
      "70/70 [==============================] - 3s 41ms/step - loss: 0.8565 - accuracy: 0.5863 - val_loss: 0.8562 - val_accuracy: 0.7058\n",
      "Epoch 3/50\n",
      "70/70 [==============================] - 3s 39ms/step - loss: 0.8461 - accuracy: 0.5808 - val_loss: 0.8739 - val_accuracy: 0.7058\n",
      "Epoch 4/50\n",
      "70/70 [==============================] - 3s 38ms/step - loss: 0.8557 - accuracy: 0.5822 - val_loss: 0.8622 - val_accuracy: 0.7058\n",
      "Epoch 5/50\n",
      "70/70 [==============================] - 3s 37ms/step - loss: 0.8547 - accuracy: 0.5885 - val_loss: 0.8744 - val_accuracy: 0.7058\n",
      "Epoch 6/50\n",
      "70/70 [==============================] - 3s 38ms/step - loss: 0.8499 - accuracy: 0.5876 - val_loss: 0.8495 - val_accuracy: 0.7058\n",
      "Epoch 7/50\n",
      "70/70 [==============================] - 2s 35ms/step - loss: 0.8423 - accuracy: 0.5921 - val_loss: 0.8178 - val_accuracy: 0.7058\n",
      "Epoch 8/50\n",
      "70/70 [==============================] - 3s 37ms/step - loss: 0.8409 - accuracy: 0.5903 - val_loss: 0.8334 - val_accuracy: 0.7058\n",
      "Epoch 9/50\n",
      "70/70 [==============================] - 3s 39ms/step - loss: 0.8371 - accuracy: 0.5903 - val_loss: 0.8416 - val_accuracy: 0.7058\n",
      "Epoch 10/50\n",
      "70/70 [==============================] - 3s 39ms/step - loss: 0.8307 - accuracy: 0.5894 - val_loss: 0.7092 - val_accuracy: 0.7058\n",
      "Epoch 11/50\n",
      "70/70 [==============================] - 3s 41ms/step - loss: 0.7552 - accuracy: 0.6039 - val_loss: 0.6980 - val_accuracy: 0.6426\n",
      "Epoch 12/50\n",
      "70/70 [==============================] - 3s 40ms/step - loss: 0.7098 - accuracy: 0.6545 - val_loss: 0.6268 - val_accuracy: 0.7004\n",
      "Epoch 13/50\n",
      "70/70 [==============================] - 3s 41ms/step - loss: 0.7047 - accuracy: 0.6825 - val_loss: 0.6390 - val_accuracy: 0.6877\n",
      "Epoch 14/50\n",
      "70/70 [==============================] - 3s 40ms/step - loss: 0.6862 - accuracy: 0.6906 - val_loss: 0.6337 - val_accuracy: 0.6931\n",
      "Epoch 15/50\n",
      "70/70 [==============================] - 3s 38ms/step - loss: 0.6766 - accuracy: 0.6929 - val_loss: 0.6112 - val_accuracy: 0.6986\n",
      "Epoch 16/50\n",
      "70/70 [==============================] - 3s 38ms/step - loss: 0.6844 - accuracy: 0.7001 - val_loss: 0.6053 - val_accuracy: 0.7112\n",
      "Epoch 17/50\n",
      "70/70 [==============================] - 3s 40ms/step - loss: 0.6677 - accuracy: 0.7150 - val_loss: 0.5605 - val_accuracy: 0.7545\n",
      "Epoch 18/50\n",
      "70/70 [==============================] - 3s 42ms/step - loss: 0.6407 - accuracy: 0.7308 - val_loss: 0.5775 - val_accuracy: 0.7365\n",
      "Epoch 19/50\n",
      "70/70 [==============================] - 3s 42ms/step - loss: 0.6716 - accuracy: 0.7209 - val_loss: 0.5636 - val_accuracy: 0.7617\n",
      "Epoch 20/50\n",
      "70/70 [==============================] - 3s 39ms/step - loss: 0.6605 - accuracy: 0.7200 - val_loss: 0.5832 - val_accuracy: 0.7473\n",
      "Epoch 21/50\n",
      "70/70 [==============================] - 3s 39ms/step - loss: 0.6425 - accuracy: 0.7362 - val_loss: 0.5871 - val_accuracy: 0.7527\n",
      "Epoch 22/50\n",
      "70/70 [==============================] - 3s 40ms/step - loss: 0.6369 - accuracy: 0.7353 - val_loss: 0.5265 - val_accuracy: 0.7852\n",
      "Epoch 23/50\n",
      "70/70 [==============================] - 3s 37ms/step - loss: 0.6434 - accuracy: 0.7349 - val_loss: 0.6025 - val_accuracy: 0.7365\n",
      "Epoch 24/50\n",
      "70/70 [==============================] - 3s 37ms/step - loss: 0.6309 - accuracy: 0.7444 - val_loss: 0.5984 - val_accuracy: 0.7816\n",
      "Epoch 25/50\n",
      "70/70 [==============================] - 3s 38ms/step - loss: 0.6272 - accuracy: 0.7367 - val_loss: 0.6519 - val_accuracy: 0.7040\n",
      "Epoch 26/50\n",
      "70/70 [==============================] - 3s 37ms/step - loss: 0.6234 - accuracy: 0.7249 - val_loss: 0.5258 - val_accuracy: 0.7906\n",
      "Epoch 27/50\n",
      "70/70 [==============================] - 3s 37ms/step - loss: 0.6165 - accuracy: 0.7475 - val_loss: 0.5328 - val_accuracy: 0.7798\n",
      "Epoch 28/50\n",
      "70/70 [==============================] - 3s 38ms/step - loss: 0.6216 - accuracy: 0.7471 - val_loss: 0.5448 - val_accuracy: 0.7888\n",
      "Epoch 29/50\n",
      "70/70 [==============================] - 3s 37ms/step - loss: 0.6099 - accuracy: 0.7403 - val_loss: 0.5255 - val_accuracy: 0.7780\n",
      "Epoch 30/50\n",
      "70/70 [==============================] - 3s 39ms/step - loss: 0.6118 - accuracy: 0.7421 - val_loss: 0.5540 - val_accuracy: 0.7744\n",
      "Epoch 31/50\n",
      "70/70 [==============================] - 3s 39ms/step - loss: 0.6101 - accuracy: 0.7507 - val_loss: 0.5721 - val_accuracy: 0.7690\n",
      "Epoch 32/50\n",
      "70/70 [==============================] - 3s 39ms/step - loss: 0.6132 - accuracy: 0.7362 - val_loss: 0.5177 - val_accuracy: 0.7942\n",
      "Epoch 33/50\n",
      "70/70 [==============================] - 3s 43ms/step - loss: 0.6056 - accuracy: 0.7457 - val_loss: 0.5202 - val_accuracy: 0.7942\n",
      "Epoch 34/50\n",
      "70/70 [==============================] - 3s 39ms/step - loss: 0.5956 - accuracy: 0.7665 - val_loss: 0.5839 - val_accuracy: 0.7599\n",
      "Epoch 35/50\n",
      "70/70 [==============================] - 3s 39ms/step - loss: 0.6046 - accuracy: 0.7556 - val_loss: 0.5528 - val_accuracy: 0.7726\n",
      "Epoch 36/50\n",
      "70/70 [==============================] - 3s 41ms/step - loss: 0.5943 - accuracy: 0.7538 - val_loss: 0.5414 - val_accuracy: 0.7671\n",
      "Epoch 37/50\n",
      "70/70 [==============================] - 3s 46ms/step - loss: 0.6072 - accuracy: 0.7484 - val_loss: 0.6105 - val_accuracy: 0.7762\n",
      "Epoch 38/50\n",
      "70/70 [==============================] - 4s 52ms/step - loss: 0.5905 - accuracy: 0.7602 - val_loss: 0.5228 - val_accuracy: 0.7978\n",
      "Epoch 39/50\n",
      "70/70 [==============================] - 3s 47ms/step - loss: 0.5860 - accuracy: 0.7543 - val_loss: 0.5291 - val_accuracy: 0.7834\n",
      "Epoch 40/50\n",
      "70/70 [==============================] - 3s 47ms/step - loss: 0.5870 - accuracy: 0.7674 - val_loss: 0.5367 - val_accuracy: 0.7888\n",
      "Epoch 41/50\n",
      "70/70 [==============================] - 3s 45ms/step - loss: 0.5803 - accuracy: 0.7642 - val_loss: 0.5186 - val_accuracy: 0.7978\n",
      "Epoch 42/50\n",
      "70/70 [==============================] - 3s 42ms/step - loss: 0.5899 - accuracy: 0.7633 - val_loss: 0.5436 - val_accuracy: 0.7671\n",
      "Epoch 43/50\n",
      "70/70 [==============================] - 3s 43ms/step - loss: 0.5879 - accuracy: 0.7602 - val_loss: 0.5309 - val_accuracy: 0.7816\n",
      "Epoch 44/50\n",
      "70/70 [==============================] - 3s 46ms/step - loss: 0.5822 - accuracy: 0.7696 - val_loss: 0.5334 - val_accuracy: 0.8014\n",
      "Epoch 45/50\n",
      "70/70 [==============================] - 4s 53ms/step - loss: 0.5915 - accuracy: 0.7611 - val_loss: 0.5149 - val_accuracy: 0.7924\n",
      "Epoch 46/50\n",
      "70/70 [==============================] - 3s 49ms/step - loss: 0.5837 - accuracy: 0.7593 - val_loss: 0.5400 - val_accuracy: 0.7960\n",
      "Epoch 47/50\n",
      "70/70 [==============================] - 3s 50ms/step - loss: 0.5606 - accuracy: 0.7769 - val_loss: 0.5396 - val_accuracy: 0.7780\n",
      "Epoch 48/50\n",
      "70/70 [==============================] - 3s 47ms/step - loss: 0.5718 - accuracy: 0.7769 - val_loss: 0.5435 - val_accuracy: 0.7906\n",
      "Epoch 49/50\n",
      "70/70 [==============================] - 3s 45ms/step - loss: 0.5821 - accuracy: 0.7642 - val_loss: 0.5510 - val_accuracy: 0.7996\n",
      "Epoch 50/50\n",
      "70/70 [==============================] - 3s 47ms/step - loss: 0.5680 - accuracy: 0.7710 - val_loss: 0.5284 - val_accuracy: 0.7942\n"
     ]
    }
   ],
   "source": [
    "model_fit = model.fit(train_input, train_output, epochs = 50, validation_split = 0.2)"
   ]
  },
  {
   "cell_type": "code",
   "execution_count": 10,
   "metadata": {},
   "outputs": [
    {
     "data": {
      "image/png": "[encoded data removed]",
      "text/plain": [
       "<Figure size 432x288 with 1 Axes>"
      ]
     },
     "metadata": {
      "needs_background": "light"
     },
     "output_type": "display_data"
    },
    {
     "data": {
      "image/png": "[encoded data removed]",
      "text/plain": [
       "<Figure size 432x288 with 1 Axes>"
      ]
     },
     "metadata": {
      "needs_background": "light"
     },
     "output_type": "display_data"
    }
   ],
   "source": [
    "plot_fit(model_fit)"
   ]
  },
  {
   "cell_type": "markdown",
   "metadata": {},
   "source": [
    "We check the performance of our model against the test data."
   ]
  },
  {
   "cell_type": "code",
   "execution_count": 11,
   "metadata": {},
   "outputs": [
    {
     "name": "stdout",
     "output_type": "stream",
     "text": [
      "4/4 [==============================] - 2s 26ms/step\n",
      "Accuracy: 0.8399999737739563\n"
     ]
    }
   ],
   "source": [
    "predictions = model.predict(test_input)\n",
    "m = CategoricalAccuracy()\n",
    "m.update_state(test_output, predictions)\n",
    "print(f\"Accuracy: {m.result().numpy()}\")"
   ]
  }
 ],
 "metadata": {
  "colab": {
   "collapsed_sections": [],
   "name": "Trading Bot.ipynb",
   "provenance": []
  },
  "kernelspec": {
   "display_name": "Python 3.9.12 ('base')",
   "language": "python",
   "name": "python3"
  },
  "language_info": {
   "codemirror_mode": {
    "name": "ipython",
    "version": 3
   },
   "file_extension": ".py",
   "mimetype": "text/x-python",
   "name": "python",
   "nbconvert_exporter": "python",
   "pygments_lexer": "ipython3",
   "version": "3.9.12"
  },
  "vscode": {
   "interpreter": {
    "hash": "b4209db2c9115bd9d8a651c5b93a2ec7d7b7d7b144c90a4aaccedfe82b175c95"
   }
  }
 },
 "nbformat": 4,
 "nbformat_minor": 1
}

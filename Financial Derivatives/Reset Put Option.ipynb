{
 "cells": [
  {
   "cell_type": "markdown",
   "metadata": {},
   "source": [
    "# Reset Put Option\n",
    "\n",
    "A reset put option is similar to a standard put option except that the exercise price is reset equal to the stock price on the pre-specified reset date if this stock price exceeds the original exercise price. Unlike the standard put option, a Reset put option has a stochastic strike price. On issue date, the reset put option has a strike price equal to the stock price. However, if the stock price exceeds the original strike price on a pre-specified future reset date, then the strike price is reset to the current strike price.\n",
    "\n",
    "This notebook proposes three approaches to pricing the exotic option: the binomial tree approach, Monte Carlo simulation approach, and the closed form solution. The presentation accompanying this notebook can be found in my [website](https://www.brianlim.xyz/files/Portfolio/Reset%20Put%20Option.pdf).\n",
    "\n",
    "To read more about Reset Put Option, you can refer to the paper by [Gray and Whaley (1999)](https://citeseerx.ist.psu.edu/viewdoc/download?doi=10.1.1.1015.8221&rep=rep1&type=pdf)."
   ]
  },
  {
   "cell_type": "markdown",
   "metadata": {},
   "source": [
    "## Load Libraries\n",
    "\n",
    "First, we import the necessary libraries"
   ]
  },
  {
   "cell_type": "code",
   "execution_count": 3,
   "metadata": {},
   "outputs": [],
   "source": [
    "import numpy as np\n",
    "import pandas as pd\n",
    "from scipy.stats import multivariate_normal as mvn\n",
    "from scipy.stats import norm\n",
    "import plotly.express as px\n",
    "import plotly.io as pio\n",
    "pio.templates.default = \"plotly_white\""
   ]
  },
  {
   "cell_type": "markdown",
   "metadata": {},
   "source": [
    "## Binomial Tree\n",
    "\n",
    "For the binomial tree implementation, instead of doing the naive approach of doing path dependent options, we can optimize our calculations since we are only concerned with the value at $T_1$. The formula used is from [Shparber and Resheff (2004)](https://www.researchgate.net/publication/240390357_Valuation_of_Cliquet_Options).\n",
    "\n",
    "$$p_0 = e^{-rT_2} \\sum_{j=0}^{n_1}\\sum_{i=j}^{n_2-n_1+j} \\frac{n_1! (n_2 - n_1)!}{j! (n_1 - j)! (i - j)! (n_2 - n_1 - i + j)!} p^i (1-p)^{n_2-i} \\max(S_0 - S_0 u^{i}d^{n_2-i}, S_0 u^{j}d^{n_1-j} - S_0 u^i d^{n_2-i}, 0)$$\n",
    "\n",
    "To further optimize the performance of this implementation, we can use the recursive form of the combination function and apply dynamic programming.\n",
    "\n",
    "$${n \\choose r} = {{n-1} \\choose {r}} + {{n-1} \\choose {r-1}}$$"
   ]
  },
  {
   "cell_type": "code",
   "execution_count": 4,
   "metadata": {},
   "outputs": [],
   "source": [
    "memo = [[-1 for _ in range(1000)] for _ in range(1000)]\n",
    "\n",
    "def choose(n,r):\n",
    "    if r > n or r < 0:\n",
    "        return 0\n",
    "    elif n == 1:\n",
    "        return 1\n",
    "    elif memo[n][r] == -1:\n",
    "        memo[n][r] = choose(n-1, r-1) + choose(n-1, r)\n",
    "    return memo[n][r]\n",
    "    \n",
    "def BT_option_price(S0, T2, n1, n2, r, q, sigma):\n",
    "    dt = T2 / n2\n",
    "    u = np.exp(  sigma * np.sqrt(dt))\n",
    "    d = np.exp(- sigma * np.sqrt(dt))\n",
    "    pu = (np.exp( (r - q) * dt) - d) / (u - d)\n",
    "    pd = (u - np.exp( (r - q) * dt)) / (u - d)\n",
    "\n",
    "    ans = 0\n",
    "    for j in range(n1+1):\n",
    "        for i in range(j, n2 - n1 + j + 1):\n",
    "            ans += (\n",
    "                choose(n1, j) * choose (n2 - n1, i - j) * pow(pu, i) * pow(pd, n2 - i) *\n",
    "                max(\n",
    "                    S0 - S0 * pow(u, i) * pow(d, n2 - i),\n",
    "                    S0 * pow(u, j) * pow(d, n1 - j) - S0 * pow(u, i) * pow(d, n2 - i),\n",
    "                    0\n",
    "                )\n",
    "            )\n",
    "            \n",
    "    return np.exp(-r * T2) * ans"
   ]
  },
  {
   "cell_type": "code",
   "execution_count": 5,
   "metadata": {},
   "outputs": [
    {
     "name": "stdout",
     "output_type": "stream",
     "text": [
      "Binomial Tree:  11.50392391907085\n"
     ]
    }
   ],
   "source": [
    "print(\"Binomial Tree: \", BT_option_price(\n",
    "    S0 = 100, \n",
    "    T2 = 1, \n",
    "    n1 = 500, \n",
    "    n2 = 1000, \n",
    "    r = 0.1, \n",
    "    q = 0.05, \n",
    "    sigma = 0.3)\n",
    ")"
   ]
  },
  {
   "cell_type": "markdown",
   "metadata": {},
   "source": [
    "## Monte Carlo Simulation\n",
    "\n",
    "For the Monte Carlo Simulation, we will use the discretized GBM to determine trajectories of the stock price. The discretized GBM is given as\n",
    "$$S_{t + \\Delta t} = S_t \\left[1 + (r - q) \\Delta t + \\sigma \\sqrt{\\Delta t} Z\\right],$$\n",
    "where $Z \\sim N(0,1)$. After simulating each trajectory, we get the present value of the mean of the payoffs."
   ]
  },
  {
   "cell_type": "code",
   "execution_count": 6,
   "metadata": {},
   "outputs": [],
   "source": [
    "def generate_trajectory(S0, T2, n2, r, q, sigma):\n",
    "    dt = T2 / n2\n",
    "    trajectory = [S0]\n",
    "    for _ in range (n2):\n",
    "        trajectory.append(\n",
    "            trajectory[-1] * (1 + ( r - q ) * dt + sigma * np.sqrt(dt) * np.random.randn())\n",
    "        )\n",
    "    return trajectory\n",
    "\n",
    "def MC_option_price(S0, T2, n1, n2, r, q, sigma):\n",
    "    res = []\n",
    "    for _ in range(100000):\n",
    "        tmp = generate_trajectory(S0, T2, n2, r, q, sigma)\n",
    "        res.append( max(max(S0, tmp[n1]) - tmp[-1] ,0) )\n",
    "    return np.exp(- r * T2) * np.mean(res)"
   ]
  },
  {
   "cell_type": "code",
   "execution_count": 7,
   "metadata": {},
   "outputs": [
    {
     "name": "stdout",
     "output_type": "stream",
     "text": [
      "Monte Carlo:  11.524762360429376\n"
     ]
    }
   ],
   "source": [
    "print(\"Monte Carlo: \", MC_option_price(\n",
    "    S0 = 100, \n",
    "    T2 = 1, \n",
    "    n1 = 50, \n",
    "    n2 = 100, \n",
    "    r = 0.1,\n",
    "    q = 0.05,\n",
    "    sigma = 0.3)\n",
    ")"
   ]
  },
  {
   "cell_type": "markdown",
   "metadata": {},
   "source": [
    "## Closed Form\n",
    "\n",
    "According to [Gray and Whaley (1999)](https://citeseerx.ist.psu.edu/viewdoc/download?doi=10.1.1.1015.8221&rep=rep1&type=pdf), the closed form of the reset put option price is \n",
    "\\begin{align*}\n",
    "    p_0 &= S_0 e^{-qT_1 -r(T_2-T_1)} N(a_1) N(-c_2) - S_0 e^{-qT_2} N(a_1) N(-c_1) \\\\\n",
    "    & \\qquad + S_0 e^{-rT_2} N_2\\left(-b_2, -a_2, \\sqrt{\\frac{T_1}{T_2}}\\right) - S_0 e^{-qT_2} N_2\\left(-b_1, -a_1, \\sqrt{\\frac{T_1}{T_2}}\\right),\n",
    "\\end{align*}\n",
    "\n",
    "where \n",
    "\\begin{align*}\n",
    "& a_1 = \\dfrac{(r-q+\\frac{1}{2}\\sigma^2)T_1}{\\sigma\\sqrt{T_1}}, a_2 = a_1 - \\sigma\\sqrt{T_1},\\\\\n",
    "& b_1 = \\dfrac{(r-q+\\frac{1}{2}\\sigma^2)T_2}{\\sigma\\sqrt{T_2}}, b_2 = b_1 - \\sigma\\sqrt{T_2}, \\\\\n",
    "& c_1 = \\dfrac{(r-q+\\frac{1}{2}\\sigma^2)(T_2-T_1)}{\\sigma\\sqrt{T_2-T_1}}, c_2 = c_1 - \\sigma\\sqrt{T_2-T_1}.\n",
    "\\end{align*}"
   ]
  },
  {
   "cell_type": "code",
   "execution_count": 8,
   "metadata": {},
   "outputs": [],
   "source": [
    "def closed_form_option_price(S0, T1, T2, r, q, sigma):\n",
    "    a1 = ( (r - q + 0.5 * sigma**2) * T1 ) / (sigma * np.sqrt(T1))\n",
    "    a2 = ( (r - q - 0.5 * sigma**2) * T1 ) / (sigma * np.sqrt(T1))\n",
    "    b1 = ( (r - q + 0.5 * sigma**2) * T2 ) / (sigma * np.sqrt(T2))\n",
    "    b2 = ( (r - q - 0.5 * sigma**2) * T2 ) / (sigma * np.sqrt(T2))\n",
    "    c1 = ( (r - q + 0.5 * sigma**2) * (T2 - T1) ) / (sigma * np.sqrt(T2 - T1))\n",
    "    c2 = ( (r - q - 0.5 * sigma**2) * (T2 - T1) ) / (sigma * np.sqrt(T2 - T1))\n",
    "    \n",
    "    rho = np.sqrt(T1 / T2)\n",
    "    Sigma = np.array(\n",
    "        [[1, rho],\n",
    "        [rho, 1]]\n",
    "    )\n",
    "\n",
    "    return (\n",
    "        S0 * np.exp(-q * T1 - r * (T2 - T1)) * norm.cdf(a1) * norm.cdf(-c2)\n",
    "        - S0 * np.exp(-q * T2) * norm.cdf(a1) * norm.cdf(-c1)\n",
    "        + S0 * np.exp(-r * T2) * mvn.cdf(np.array([-b2, -a2]), mean = np.zeros(2), cov = Sigma)\n",
    "        - S0 * np.exp(-q * T2) * mvn.cdf(np.array([-b1, -a1]), mean = np.zeros(2), cov = Sigma)\n",
    "    )"
   ]
  },
  {
   "cell_type": "code",
   "execution_count": 9,
   "metadata": {},
   "outputs": [
    {
     "name": "stdout",
     "output_type": "stream",
     "text": [
      "Closed Form:  11.509604706054052\n"
     ]
    }
   ],
   "source": [
    "print(\"Closed Form: \", closed_form_option_price(\n",
    "    S0 = 100, \n",
    "    T1 = 0.5, \n",
    "    T2 = 1, \n",
    "    r = 0.1, \n",
    "    q = 0.05,\n",
    "    sigma = 0.3)\n",
    ")"
   ]
  },
  {
   "cell_type": "markdown",
   "metadata": {},
   "source": [
    "## Sensitivity Analysis\n",
    "\n",
    "Next, we can perform a sensitivity analysis on the exotic option and compare its valuation against a vanilla European put option."
   ]
  },
  {
   "cell_type": "code",
   "execution_count": 10,
   "metadata": {},
   "outputs": [],
   "source": [
    "def vanilla_price(S0, T, r, q, sigma):\n",
    "    d1 = ( (r - q + 0.5 * sigma**2) * T ) / (sigma * np.sqrt(T))\n",
    "    d2 = ( (r - q - 0.5 * sigma**2) * T ) / (sigma * np.sqrt(T))\n",
    "    \n",
    "    return (\n",
    "        S0 * np.exp(-r * T) * norm.cdf(-d2)\n",
    "        - S0 * np.exp(- q * T) * norm.cdf(-d1)\n",
    "    )"
   ]
  },
  {
   "cell_type": "markdown",
   "metadata": {},
   "source": [
    "### Reset Date\n",
    "\n",
    "First, we perform sensitivity analysis on the reset date."
   ]
  },
  {
   "cell_type": "code",
   "execution_count": 11,
   "metadata": {},
   "outputs": [
    {
     "data": {
      "application/vnd.plotly.v1+json": {
       "config": {
        "plotlyServerURL": "https://plot.ly"
       },
       "data": [
        {
         "hovertemplate": "Type=Reset Put Option<br>Reset Date=%{x}<br>Price=%{y}<extra></extra>",
         "legendgroup": "Reset Put Option",
         "line": {
          "color": "#636efa",
          "dash": "solid"
         },
         "marker": {
          "symbol": "circle"
         },
         "mode": "lines",
         "name": "Reset Put Option",
         "orientation": "v",
         "showlegend": true,
         "type": "scatter",
         "x": [
          0.0001,
          0.020504081632653062,
          0.04090816326530613,
          0.061312244897959195,
          0.08171632653061225,
          0.10212040816326531,
          0.12252448979591839,
          0.14292857142857143,
          0.1633326530612245,
          0.18373673469387755,
          0.2041408163265306,
          0.22454489795918367,
          0.24494897959183676,
          0.2653530612244898,
          0.2857571428571429,
          0.30616122448979594,
          0.326565306122449,
          0.34696938775510205,
          0.3673734693877551,
          0.3877775510204082,
          0.40818163265306123,
          0.4285857142857143,
          0.44898979591836735,
          0.4693938775510204,
          0.4897979591836735,
          0.5102020408163266,
          0.5306061224489796,
          0.5510102040816327,
          0.5714142857142858,
          0.5918183673469388,
          0.6122224489795919,
          0.6326265306122449,
          0.653030612244898,
          0.6734346938775511,
          0.6938387755102041,
          0.7142428571428572,
          0.7346469387755102,
          0.7550510204081633,
          0.7754551020408164,
          0.7958591836734694,
          0.8162632653061225,
          0.8366673469387755,
          0.8570714285714286,
          0.8774755102040817,
          0.8978795918367347,
          0.9182836734693878,
          0.9386877551020408,
          0.9590918367346939,
          0.9794959183673471,
          0.9999
         ],
         "xaxis": "x",
         "y": [
          8.951254967026507,
          9.629332643360378,
          9.910113301991387,
          10.116566116663584,
          10.284006692227717,
          10.426136537140877,
          10.54997953953163,
          10.659699855152038,
          10.758000759857712,
          10.84674951847261,
          10.927295011064214,
          11.0006447208245,
          11.067570393866664,
          11.12867459114879,
          11.184434436267118,
          11.235231381671817,
          11.281372034821555,
          11.323103057758612,
          11.360622010202707,
          11.39408533349954,
          11.423614261769007,
          11.449299186815786,
          11.471202833715974,
          11.489362489425705,
          11.50379144638162,
          11.514479763942266,
          11.521394404230982,
          11.524478759613853,
          11.523651552140223,
          11.518805046729593,
          11.50980247541904,
          11.496474514311071,
          11.478614580703482,
          11.455972614413614,
          11.428246857583797,
          11.395072923688623,
          11.356009102571424,
          11.310516302992237,
          11.257930140394173,
          11.197421157669737,
          11.127936469996978,
          11.048111096400685,
          10.956127290782952,
          10.849479015763325,
          10.72454937087571,
          10.575779379210719,
          10.393807330039564,
          10.160390605637403,
          9.828538586616709,
          8.96863655991131
         ],
         "yaxis": "y"
        },
        {
         "hovertemplate": "Type=Put Option<br>Reset Date=%{x}<br>Price=%{y}<extra></extra>",
         "legendgroup": "Put Option",
         "line": {
          "color": "#EF553B",
          "dash": "solid"
         },
         "marker": {
          "symbol": "circle"
         },
         "mode": "lines",
         "name": "Put Option",
         "orientation": "v",
         "showlegend": true,
         "type": "scatter",
         "x": [
          0.0001,
          0.020504081632653062,
          0.04090816326530613,
          0.061312244897959195,
          0.08171632653061225,
          0.10212040816326531,
          0.12252448979591839,
          0.14292857142857143,
          0.1633326530612245,
          0.18373673469387755,
          0.2041408163265306,
          0.22454489795918367,
          0.24494897959183676,
          0.2653530612244898,
          0.2857571428571429,
          0.30616122448979594,
          0.326565306122449,
          0.34696938775510205,
          0.3673734693877551,
          0.3877775510204082,
          0.40818163265306123,
          0.4285857142857143,
          0.44898979591836735,
          0.4693938775510204,
          0.4897979591836735,
          0.5102020408163266,
          0.5306061224489796,
          0.5510102040816327,
          0.5714142857142858,
          0.5918183673469388,
          0.6122224489795919,
          0.6326265306122449,
          0.653030612244898,
          0.6734346938775511,
          0.6938387755102041,
          0.7142428571428572,
          0.7346469387755102,
          0.7550510204081633,
          0.7754551020408164,
          0.7958591836734694,
          0.8162632653061225,
          0.8366673469387755,
          0.8570714285714286,
          0.8774755102040817,
          0.8978795918367347,
          0.9182836734693878,
          0.9386877551020408,
          0.9590918367346939,
          0.9794959183673471,
          0.9999
         ],
         "xaxis": "x",
         "y": [
          8.897987653520879,
          8.897987653520879,
          8.897987653520879,
          8.897987653520879,
          8.897987653520879,
          8.897987653520879,
          8.897987653520879,
          8.897987653520879,
          8.897987653520879,
          8.897987653520879,
          8.897987653520879,
          8.897987653520879,
          8.897987653520879,
          8.897987653520879,
          8.897987653520879,
          8.897987653520879,
          8.897987653520879,
          8.897987653520879,
          8.897987653520879,
          8.897987653520879,
          8.897987653520879,
          8.897987653520879,
          8.897987653520879,
          8.897987653520879,
          8.897987653520879,
          8.897987653520879,
          8.897987653520879,
          8.897987653520879,
          8.897987653520879,
          8.897987653520879,
          8.897987653520879,
          8.897987653520879,
          8.897987653520879,
          8.897987653520879,
          8.897987653520879,
          8.897987653520879,
          8.897987653520879,
          8.897987653520879,
          8.897987653520879,
          8.897987653520879,
          8.897987653520879,
          8.897987653520879,
          8.897987653520879,
          8.897987653520879,
          8.897987653520879,
          8.897987653520879,
          8.897987653520879,
          8.897987653520879,
          8.897987653520879,
          8.897987653520879
         ],
         "yaxis": "y"
        }
       ],
       "layout": {
        "legend": {
         "title": {
          "text": "Type"
         },
         "tracegroupgap": 0
        },
        "margin": {
         "t": 60
        },
        "template": {
         "data": {
          "bar": [
           {
            "error_x": {
             "color": "#2a3f5f"
            },
            "error_y": {
             "color": "#2a3f5f"
            },
            "marker": {
             "line": {
              "color": "white",
              "width": 0.5
             },
             "pattern": {
              "fillmode": "overlay",
              "size": 10,
              "solidity": 0.2
             }
            },
            "type": "bar"
           }
          ],
          "barpolar": [
           {
            "marker": {
             "line": {
              "color": "white",
              "width": 0.5
             },
             "pattern": {
              "fillmode": "overlay",
              "size": 10,
              "solidity": 0.2
             }
            },
            "type": "barpolar"
           }
          ],
          "carpet": [
           {
            "aaxis": {
             "endlinecolor": "#2a3f5f",
             "gridcolor": "#C8D4E3",
             "linecolor": "#C8D4E3",
             "minorgridcolor": "#C8D4E3",
             "startlinecolor": "#2a3f5f"
            },
            "baxis": {
             "endlinecolor": "#2a3f5f",
             "gridcolor": "#C8D4E3",
             "linecolor": "#C8D4E3",
             "minorgridcolor": "#C8D4E3",
             "startlinecolor": "#2a3f5f"
            },
            "type": "carpet"
           }
          ],
          "choropleth": [
           {
            "colorbar": {
             "outlinewidth": 0,
             "ticks": ""
            },
            "type": "choropleth"
           }
          ],
          "contour": [
           {
            "colorbar": {
             "outlinewidth": 0,
             "ticks": ""
            },
            "colorscale": [
             [
              0,
              "#0d0887"
             ],
             [
              0.1111111111111111,
              "#46039f"
             ],
             [
              0.2222222222222222,
              "#7201a8"
             ],
             [
              0.3333333333333333,
              "#9c179e"
             ],
             [
              0.4444444444444444,
              "#bd3786"
             ],
             [
              0.5555555555555556,
              "#d8576b"
             ],
             [
              0.6666666666666666,
              "#ed7953"
             ],
             [
              0.7777777777777778,
              "#fb9f3a"
             ],
             [
              0.8888888888888888,
              "#fdca26"
             ],
             [
              1,
              "#f0f921"
             ]
            ],
            "type": "contour"
           }
          ],
          "contourcarpet": [
           {
            "colorbar": {
             "outlinewidth": 0,
             "ticks": ""
            },
            "type": "contourcarpet"
           }
          ],
          "heatmap": [
           {
            "colorbar": {
             "outlinewidth": 0,
             "ticks": ""
            },
            "colorscale": [
             [
              0,
              "#0d0887"
             ],
             [
              0.1111111111111111,
              "#46039f"
             ],
             [
              0.2222222222222222,
              "#7201a8"
             ],
             [
              0.3333333333333333,
              "#9c179e"
             ],
             [
              0.4444444444444444,
              "#bd3786"
             ],
             [
              0.5555555555555556,
              "#d8576b"
             ],
             [
              0.6666666666666666,
              "#ed7953"
             ],
             [
              0.7777777777777778,
              "#fb9f3a"
             ],
             [
              0.8888888888888888,
              "#fdca26"
             ],
             [
              1,
              "#f0f921"
             ]
            ],
            "type": "heatmap"
           }
          ],
          "heatmapgl": [
           {
            "colorbar": {
             "outlinewidth": 0,
             "ticks": ""
            },
            "colorscale": [
             [
              0,
              "#0d0887"
             ],
             [
              0.1111111111111111,
              "#46039f"
             ],
             [
              0.2222222222222222,
              "#7201a8"
             ],
             [
              0.3333333333333333,
              "#9c179e"
             ],
             [
              0.4444444444444444,
              "#bd3786"
             ],
             [
              0.5555555555555556,
              "#d8576b"
             ],
             [
              0.6666666666666666,
              "#ed7953"
             ],
             [
              0.7777777777777778,
              "#fb9f3a"
             ],
             [
              0.8888888888888888,
              "#fdca26"
             ],
             [
              1,
              "#f0f921"
             ]
            ],
            "type": "heatmapgl"
           }
          ],
          "histogram": [
           {
            "marker": {
             "pattern": {
              "fillmode": "overlay",
              "size": 10,
              "solidity": 0.2
             }
            },
            "type": "histogram"
           }
          ],
          "histogram2d": [
           {
            "colorbar": {
             "outlinewidth": 0,
             "ticks": ""
            },
            "colorscale": [
             [
              0,
              "#0d0887"
             ],
             [
              0.1111111111111111,
              "#46039f"
             ],
             [
              0.2222222222222222,
              "#7201a8"
             ],
             [
              0.3333333333333333,
              "#9c179e"
             ],
             [
              0.4444444444444444,
              "#bd3786"
             ],
             [
              0.5555555555555556,
              "#d8576b"
             ],
             [
              0.6666666666666666,
              "#ed7953"
             ],
             [
              0.7777777777777778,
              "#fb9f3a"
             ],
             [
              0.8888888888888888,
              "#fdca26"
             ],
             [
              1,
              "#f0f921"
             ]
            ],
            "type": "histogram2d"
           }
          ],
          "histogram2dcontour": [
           {
            "colorbar": {
             "outlinewidth": 0,
             "ticks": ""
            },
            "colorscale": [
             [
              0,
              "#0d0887"
             ],
             [
              0.1111111111111111,
              "#46039f"
             ],
             [
              0.2222222222222222,
              "#7201a8"
             ],
             [
              0.3333333333333333,
              "#9c179e"
             ],
             [
              0.4444444444444444,
              "#bd3786"
             ],
             [
              0.5555555555555556,
              "#d8576b"
             ],
             [
              0.6666666666666666,
              "#ed7953"
             ],
             [
              0.7777777777777778,
              "#fb9f3a"
             ],
             [
              0.8888888888888888,
              "#fdca26"
             ],
             [
              1,
              "#f0f921"
             ]
            ],
            "type": "histogram2dcontour"
           }
          ],
          "mesh3d": [
           {
            "colorbar": {
             "outlinewidth": 0,
             "ticks": ""
            },
            "type": "mesh3d"
           }
          ],
          "parcoords": [
           {
            "line": {
             "colorbar": {
              "outlinewidth": 0,
              "ticks": ""
             }
            },
            "type": "parcoords"
           }
          ],
          "pie": [
           {
            "automargin": true,
            "type": "pie"
           }
          ],
          "scatter": [
           {
            "marker": {
             "colorbar": {
              "outlinewidth": 0,
              "ticks": ""
             }
            },
            "type": "scatter"
           }
          ],
          "scatter3d": [
           {
            "line": {
             "colorbar": {
              "outlinewidth": 0,
              "ticks": ""
             }
            },
            "marker": {
             "colorbar": {
              "outlinewidth": 0,
              "ticks": ""
             }
            },
            "type": "scatter3d"
           }
          ],
          "scattercarpet": [
           {
            "marker": {
             "colorbar": {
              "outlinewidth": 0,
              "ticks": ""
             }
            },
            "type": "scattercarpet"
           }
          ],
          "scattergeo": [
           {
            "marker": {
             "colorbar": {
              "outlinewidth": 0,
              "ticks": ""
             }
            },
            "type": "scattergeo"
           }
          ],
          "scattergl": [
           {
            "marker": {
             "colorbar": {
              "outlinewidth": 0,
              "ticks": ""
             }
            },
            "type": "scattergl"
           }
          ],
          "scattermapbox": [
           {
            "marker": {
             "colorbar": {
              "outlinewidth": 0,
              "ticks": ""
             }
            },
            "type": "scattermapbox"
           }
          ],
          "scatterpolar": [
           {
            "marker": {
             "colorbar": {
              "outlinewidth": 0,
              "ticks": ""
             }
            },
            "type": "scatterpolar"
           }
          ],
          "scatterpolargl": [
           {
            "marker": {
             "colorbar": {
              "outlinewidth": 0,
              "ticks": ""
             }
            },
            "type": "scatterpolargl"
           }
          ],
          "scatterternary": [
           {
            "marker": {
             "colorbar": {
              "outlinewidth": 0,
              "ticks": ""
             }
            },
            "type": "scatterternary"
           }
          ],
          "surface": [
           {
            "colorbar": {
             "outlinewidth": 0,
             "ticks": ""
            },
            "colorscale": [
             [
              0,
              "#0d0887"
             ],
             [
              0.1111111111111111,
              "#46039f"
             ],
             [
              0.2222222222222222,
              "#7201a8"
             ],
             [
              0.3333333333333333,
              "#9c179e"
             ],
             [
              0.4444444444444444,
              "#bd3786"
             ],
             [
              0.5555555555555556,
              "#d8576b"
             ],
             [
              0.6666666666666666,
              "#ed7953"
             ],
             [
              0.7777777777777778,
              "#fb9f3a"
             ],
             [
              0.8888888888888888,
              "#fdca26"
             ],
             [
              1,
              "#f0f921"
             ]
            ],
            "type": "surface"
           }
          ],
          "table": [
           {
            "cells": {
             "fill": {
              "color": "#EBF0F8"
             },
             "line": {
              "color": "white"
             }
            },
            "header": {
             "fill": {
              "color": "#C8D4E3"
             },
             "line": {
              "color": "white"
             }
            },
            "type": "table"
           }
          ]
         },
         "layout": {
          "annotationdefaults": {
           "arrowcolor": "#2a3f5f",
           "arrowhead": 0,
           "arrowwidth": 1
          },
          "autotypenumbers": "strict",
          "coloraxis": {
           "colorbar": {
            "outlinewidth": 0,
            "ticks": ""
           }
          },
          "colorscale": {
           "diverging": [
            [
             0,
             "#8e0152"
            ],
            [
             0.1,
             "#c51b7d"
            ],
            [
             0.2,
             "#de77ae"
            ],
            [
             0.3,
             "#f1b6da"
            ],
            [
             0.4,
             "#fde0ef"
            ],
            [
             0.5,
             "#f7f7f7"
            ],
            [
             0.6,
             "#e6f5d0"
            ],
            [
             0.7,
             "#b8e186"
            ],
            [
             0.8,
             "#7fbc41"
            ],
            [
             0.9,
             "#4d9221"
            ],
            [
             1,
             "#276419"
            ]
           ],
           "sequential": [
            [
             0,
             "#0d0887"
            ],
            [
             0.1111111111111111,
             "#46039f"
            ],
            [
             0.2222222222222222,
             "#7201a8"
            ],
            [
             0.3333333333333333,
             "#9c179e"
            ],
            [
             0.4444444444444444,
             "#bd3786"
            ],
            [
             0.5555555555555556,
             "#d8576b"
            ],
            [
             0.6666666666666666,
             "#ed7953"
            ],
            [
             0.7777777777777778,
             "#fb9f3a"
            ],
            [
             0.8888888888888888,
             "#fdca26"
            ],
            [
             1,
             "#f0f921"
            ]
           ],
           "sequentialminus": [
            [
             0,
             "#0d0887"
            ],
            [
             0.1111111111111111,
             "#46039f"
            ],
            [
             0.2222222222222222,
             "#7201a8"
            ],
            [
             0.3333333333333333,
             "#9c179e"
            ],
            [
             0.4444444444444444,
             "#bd3786"
            ],
            [
             0.5555555555555556,
             "#d8576b"
            ],
            [
             0.6666666666666666,
             "#ed7953"
            ],
            [
             0.7777777777777778,
             "#fb9f3a"
            ],
            [
             0.8888888888888888,
             "#fdca26"
            ],
            [
             1,
             "#f0f921"
            ]
           ]
          },
          "colorway": [
           "#636efa",
           "#EF553B",
           "#00cc96",
           "#ab63fa",
           "#FFA15A",
           "#19d3f3",
           "#FF6692",
           "#B6E880",
           "#FF97FF",
           "#FECB52"
          ],
          "font": {
           "color": "#2a3f5f"
          },
          "geo": {
           "bgcolor": "white",
           "lakecolor": "white",
           "landcolor": "white",
           "showlakes": true,
           "showland": true,
           "subunitcolor": "#C8D4E3"
          },
          "hoverlabel": {
           "align": "left"
          },
          "hovermode": "closest",
          "mapbox": {
           "style": "light"
          },
          "paper_bgcolor": "white",
          "plot_bgcolor": "white",
          "polar": {
           "angularaxis": {
            "gridcolor": "#EBF0F8",
            "linecolor": "#EBF0F8",
            "ticks": ""
           },
           "bgcolor": "white",
           "radialaxis": {
            "gridcolor": "#EBF0F8",
            "linecolor": "#EBF0F8",
            "ticks": ""
           }
          },
          "scene": {
           "xaxis": {
            "backgroundcolor": "white",
            "gridcolor": "#DFE8F3",
            "gridwidth": 2,
            "linecolor": "#EBF0F8",
            "showbackground": true,
            "ticks": "",
            "zerolinecolor": "#EBF0F8"
           },
           "yaxis": {
            "backgroundcolor": "white",
            "gridcolor": "#DFE8F3",
            "gridwidth": 2,
            "linecolor": "#EBF0F8",
            "showbackground": true,
            "ticks": "",
            "zerolinecolor": "#EBF0F8"
           },
           "zaxis": {
            "backgroundcolor": "white",
            "gridcolor": "#DFE8F3",
            "gridwidth": 2,
            "linecolor": "#EBF0F8",
            "showbackground": true,
            "ticks": "",
            "zerolinecolor": "#EBF0F8"
           }
          },
          "shapedefaults": {
           "line": {
            "color": "#2a3f5f"
           }
          },
          "ternary": {
           "aaxis": {
            "gridcolor": "#DFE8F3",
            "linecolor": "#A2B1C6",
            "ticks": ""
           },
           "baxis": {
            "gridcolor": "#DFE8F3",
            "linecolor": "#A2B1C6",
            "ticks": ""
           },
           "bgcolor": "white",
           "caxis": {
            "gridcolor": "#DFE8F3",
            "linecolor": "#A2B1C6",
            "ticks": ""
           }
          },
          "title": {
           "x": 0.05
          },
          "xaxis": {
           "automargin": true,
           "gridcolor": "#EBF0F8",
           "linecolor": "#EBF0F8",
           "ticks": "",
           "title": {
            "standoff": 15
           },
           "zerolinecolor": "#EBF0F8",
           "zerolinewidth": 2
          },
          "yaxis": {
           "automargin": true,
           "gridcolor": "#EBF0F8",
           "linecolor": "#EBF0F8",
           "ticks": "",
           "title": {
            "standoff": 15
           },
           "zerolinecolor": "#EBF0F8",
           "zerolinewidth": 2
          }
         }
        },
        "xaxis": {
         "anchor": "y",
         "domain": [
          0,
          1
         ],
         "title": {
          "text": "Reset Date"
         }
        },
        "yaxis": {
         "anchor": "x",
         "domain": [
          0,
          1
         ],
         "title": {
          "text": "Price"
         }
        }
       }
      }
     },
     "metadata": {},
     "output_type": "display_data"
    }
   ],
   "source": [
    "df = []\n",
    "for T1 in np.linspace(0.0001,0.9999,50):\n",
    "  df.append([\n",
    "    T1,\n",
    "    closed_form_option_price(S0 = 100, T1 = T1, \n",
    "        T2 = 1, r = 0.1, q = 0.05, sigma = 0.3),\n",
    "    vanilla_price(S0 = 100, T = 1, r = 0.1, q = 0.05, sigma = 0.3)\n",
    "  ])\n",
    "df = pd.DataFrame(df, columns = [\"Reset Date\", \"Reset Put Option\", \"Put Option\"])\n",
    "df = df.melt(id_vars = [\"Reset Date\"])\n",
    "px.line(df, x = \"Reset Date\", y = \"value\", color = \"variable\", \n",
    "  labels = {\"value\" : \"Price\", \"variable\" : \"Type\"})"
   ]
  },
  {
   "cell_type": "markdown",
   "metadata": {},
   "source": [
    "### Risk-Free Rate\n",
    "\n",
    "Next, we perform sensitivity analysis on the risk-free rate."
   ]
  },
  {
   "cell_type": "code",
   "execution_count": 12,
   "metadata": {},
   "outputs": [
    {
     "data": {
      "application/vnd.plotly.v1+json": {
       "config": {
        "plotlyServerURL": "https://plot.ly"
       },
       "data": [
        {
         "hovertemplate": "Type=Reset Put Option<br>Risk-Free Rate=%{x}<br>Price=%{y}<extra></extra>",
         "legendgroup": "Reset Put Option",
         "line": {
          "color": "#636efa",
          "dash": "solid"
         },
         "marker": {
          "symbol": "circle"
         },
         "mode": "lines",
         "name": "Reset Put Option",
         "orientation": "v",
         "showlegend": true,
         "type": "scatter",
         "x": [
          0,
          0.004081632653061225,
          0.00816326530612245,
          0.012244897959183675,
          0.0163265306122449,
          0.020408163265306124,
          0.02448979591836735,
          0.028571428571428574,
          0.0326530612244898,
          0.036734693877551024,
          0.04081632653061225,
          0.04489795918367347,
          0.0489795918367347,
          0.05306122448979592,
          0.05714285714285715,
          0.06122448979591837,
          0.0653061224489796,
          0.06938775510204082,
          0.07346938775510205,
          0.07755102040816328,
          0.0816326530612245,
          0.08571428571428572,
          0.08979591836734695,
          0.09387755102040818,
          0.0979591836734694,
          0.10204081632653061,
          0.10612244897959185,
          0.11020408163265308,
          0.1142857142857143,
          0.11836734693877551,
          0.12244897959183675,
          0.12653061224489798,
          0.1306122448979592,
          0.1346938775510204,
          0.13877551020408163,
          0.14285714285714288,
          0.1469387755102041,
          0.1510204081632653,
          0.15510204081632656,
          0.15918367346938778,
          0.163265306122449,
          0.1673469387755102,
          0.17142857142857143,
          0.17551020408163268,
          0.1795918367346939,
          0.1836734693877551,
          0.18775510204081636,
          0.19183673469387758,
          0.1959183673469388,
          0.2
         ],
         "xaxis": "x",
         "y": [
          16.976772308116693,
          16.72204368991474,
          16.47010217070936,
          16.220935516188007,
          15.974531292907102,
          15.730876869462321,
          15.489959417773399,
          15.251765914482405,
          15.016283142465134,
          14.783497692453913,
          14.553395964771443,
          14.32596417117394,
          14.101188336802746,
          13.87905430224276,
          13.659547725686227,
          13.442654085200676,
          13.228358681098836,
          13.016646638409267,
          12.807502909445827,
          12.600912276473657,
          12.396859354470443,
          12.195328593980143,
          11.996304284057654,
          11.799770555301947,
          11.60571138297529,
          11.41411059020653,
          11.22495185127568,
          11.038218694977768,
          10.85389450806288,
          10.671962538750254,
          10.492405900313642,
          10.31520757473513,
          10.140350416424816,
          9.967817156003544,
          9.797590404145652,
          9.629652655479365,
          9.463986292541176,
          9.300573589782044,
          9.139396717621906,
          8.980437746549676,
          8.823678651265851,
          8.669101314864424,
          8.516687533051165,
          8.366419018395405,
          8.218277404611733,
          8.072244250869186,
          7.928301046124176,
          7.786429213474612,
          7.646610114531775,
          7.508825053807001
         ],
         "yaxis": "y"
        },
        {
         "hovertemplate": "Type=Put Option<br>Risk-Free Rate=%{x}<br>Price=%{y}<extra></extra>",
         "legendgroup": "Put Option",
         "line": {
          "color": "#EF553B",
          "dash": "solid"
         },
         "marker": {
          "symbol": "circle"
         },
         "mode": "lines",
         "name": "Put Option",
         "orientation": "v",
         "showlegend": true,
         "type": "scatter",
         "x": [
          0,
          0.004081632653061225,
          0.00816326530612245,
          0.012244897959183675,
          0.0163265306122449,
          0.020408163265306124,
          0.02448979591836735,
          0.028571428571428574,
          0.0326530612244898,
          0.036734693877551024,
          0.04081632653061225,
          0.04489795918367347,
          0.0489795918367347,
          0.05306122448979592,
          0.05714285714285715,
          0.06122448979591837,
          0.0653061224489796,
          0.06938775510204082,
          0.07346938775510205,
          0.07755102040816328,
          0.0816326530612245,
          0.08571428571428572,
          0.08979591836734695,
          0.09387755102040818,
          0.0979591836734694,
          0.10204081632653061,
          0.10612244897959185,
          0.11020408163265308,
          0.1142857142857143,
          0.11836734693877551,
          0.12244897959183675,
          0.12653061224489798,
          0.1306122448979592,
          0.1346938775510204,
          0.13877551020408163,
          0.14285714285714288,
          0.1469387755102041,
          0.1510204081632653,
          0.15510204081632656,
          0.15918367346938778,
          0.163265306122449,
          0.1673469387755102,
          0.17142857142857143,
          0.17551020408163268,
          0.1795918367346939,
          0.1836734693877551,
          0.18775510204081636,
          0.19183673469387758,
          0.1959183673469388,
          0.2
         ],
         "xaxis": "x",
         "y": [
          14.231254785985826,
          13.978029621489718,
          13.727938960903288,
          13.48096992922661,
          13.237109314707482,
          12.996343570488776,
          12.758658816464788,
          12.524040841345482,
          12.292475104926986,
          12.063946740566657,
          11.838440557861034,
          11.615941045524252,
          11.396432374465,
          11.179898401059383,
          10.966322670617188,
          10.755688421038577,
          10.547978586658559,
          10.34317580227561,
          10.141262407361808,
          9.942220450450243,
          9.746031693696722,
          9.55267761761165,
          9.362139425958162,
          9.174398050812627,
          8.989434157783109,
          8.807228151381437,
          8.627760180544676,
          8.45101014430093,
          8.276957697575249,
          8.105582257130344,
          7.936863007637633,
          7.770778907873094,
          7.607308697033204,
          7.446430901165439,
          7.288123839708106,
          7.132365632134324,
          6.979134204694258,
          6.828407297250564,
          6.680162470201093,
          6.534377111483369,
          6.39102844365528,
          6.250093531045973,
          6.1115492869715276,
          5.975372481009337,
          5.841539746325687,
          5.710027587050515,
          5.58081238569363,
          5.453870410596615,
          5.3291778234144935,
          5.2067106866215624
         ],
         "yaxis": "y"
        }
       ],
       "layout": {
        "legend": {
         "title": {
          "text": "Type"
         },
         "tracegroupgap": 0
        },
        "margin": {
         "t": 60
        },
        "template": {
         "data": {
          "bar": [
           {
            "error_x": {
             "color": "#2a3f5f"
            },
            "error_y": {
             "color": "#2a3f5f"
            },
            "marker": {
             "line": {
              "color": "white",
              "width": 0.5
             },
             "pattern": {
              "fillmode": "overlay",
              "size": 10,
              "solidity": 0.2
             }
            },
            "type": "bar"
           }
          ],
          "barpolar": [
           {
            "marker": {
             "line": {
              "color": "white",
              "width": 0.5
             },
             "pattern": {
              "fillmode": "overlay",
              "size": 10,
              "solidity": 0.2
             }
            },
            "type": "barpolar"
           }
          ],
          "carpet": [
           {
            "aaxis": {
             "endlinecolor": "#2a3f5f",
             "gridcolor": "#C8D4E3",
             "linecolor": "#C8D4E3",
             "minorgridcolor": "#C8D4E3",
             "startlinecolor": "#2a3f5f"
            },
            "baxis": {
             "endlinecolor": "#2a3f5f",
             "gridcolor": "#C8D4E3",
             "linecolor": "#C8D4E3",
             "minorgridcolor": "#C8D4E3",
             "startlinecolor": "#2a3f5f"
            },
            "type": "carpet"
           }
          ],
          "choropleth": [
           {
            "colorbar": {
             "outlinewidth": 0,
             "ticks": ""
            },
            "type": "choropleth"
           }
          ],
          "contour": [
           {
            "colorbar": {
             "outlinewidth": 0,
             "ticks": ""
            },
            "colorscale": [
             [
              0,
              "#0d0887"
             ],
             [
              0.1111111111111111,
              "#46039f"
             ],
             [
              0.2222222222222222,
              "#7201a8"
             ],
             [
              0.3333333333333333,
              "#9c179e"
             ],
             [
              0.4444444444444444,
              "#bd3786"
             ],
             [
              0.5555555555555556,
              "#d8576b"
             ],
             [
              0.6666666666666666,
              "#ed7953"
             ],
             [
              0.7777777777777778,
              "#fb9f3a"
             ],
             [
              0.8888888888888888,
              "#fdca26"
             ],
             [
              1,
              "#f0f921"
             ]
            ],
            "type": "contour"
           }
          ],
          "contourcarpet": [
           {
            "colorbar": {
             "outlinewidth": 0,
             "ticks": ""
            },
            "type": "contourcarpet"
           }
          ],
          "heatmap": [
           {
            "colorbar": {
             "outlinewidth": 0,
             "ticks": ""
            },
            "colorscale": [
             [
              0,
              "#0d0887"
             ],
             [
              0.1111111111111111,
              "#46039f"
             ],
             [
              0.2222222222222222,
              "#7201a8"
             ],
             [
              0.3333333333333333,
              "#9c179e"
             ],
             [
              0.4444444444444444,
              "#bd3786"
             ],
             [
              0.5555555555555556,
              "#d8576b"
             ],
             [
              0.6666666666666666,
              "#ed7953"
             ],
             [
              0.7777777777777778,
              "#fb9f3a"
             ],
             [
              0.8888888888888888,
              "#fdca26"
             ],
             [
              1,
              "#f0f921"
             ]
            ],
            "type": "heatmap"
           }
          ],
          "heatmapgl": [
           {
            "colorbar": {
             "outlinewidth": 0,
             "ticks": ""
            },
            "colorscale": [
             [
              0,
              "#0d0887"
             ],
             [
              0.1111111111111111,
              "#46039f"
             ],
             [
              0.2222222222222222,
              "#7201a8"
             ],
             [
              0.3333333333333333,
              "#9c179e"
             ],
             [
              0.4444444444444444,
              "#bd3786"
             ],
             [
              0.5555555555555556,
              "#d8576b"
             ],
             [
              0.6666666666666666,
              "#ed7953"
             ],
             [
              0.7777777777777778,
              "#fb9f3a"
             ],
             [
              0.8888888888888888,
              "#fdca26"
             ],
             [
              1,
              "#f0f921"
             ]
            ],
            "type": "heatmapgl"
           }
          ],
          "histogram": [
           {
            "marker": {
             "pattern": {
              "fillmode": "overlay",
              "size": 10,
              "solidity": 0.2
             }
            },
            "type": "histogram"
           }
          ],
          "histogram2d": [
           {
            "colorbar": {
             "outlinewidth": 0,
             "ticks": ""
            },
            "colorscale": [
             [
              0,
              "#0d0887"
             ],
             [
              0.1111111111111111,
              "#46039f"
             ],
             [
              0.2222222222222222,
              "#7201a8"
             ],
             [
              0.3333333333333333,
              "#9c179e"
             ],
             [
              0.4444444444444444,
              "#bd3786"
             ],
             [
              0.5555555555555556,
              "#d8576b"
             ],
             [
              0.6666666666666666,
              "#ed7953"
             ],
             [
              0.7777777777777778,
              "#fb9f3a"
             ],
             [
              0.8888888888888888,
              "#fdca26"
             ],
             [
              1,
              "#f0f921"
             ]
            ],
            "type": "histogram2d"
           }
          ],
          "histogram2dcontour": [
           {
            "colorbar": {
             "outlinewidth": 0,
             "ticks": ""
            },
            "colorscale": [
             [
              0,
              "#0d0887"
             ],
             [
              0.1111111111111111,
              "#46039f"
             ],
             [
              0.2222222222222222,
              "#7201a8"
             ],
             [
              0.3333333333333333,
              "#9c179e"
             ],
             [
              0.4444444444444444,
              "#bd3786"
             ],
             [
              0.5555555555555556,
              "#d8576b"
             ],
             [
              0.6666666666666666,
              "#ed7953"
             ],
             [
              0.7777777777777778,
              "#fb9f3a"
             ],
             [
              0.8888888888888888,
              "#fdca26"
             ],
             [
              1,
              "#f0f921"
             ]
            ],
            "type": "histogram2dcontour"
           }
          ],
          "mesh3d": [
           {
            "colorbar": {
             "outlinewidth": 0,
             "ticks": ""
            },
            "type": "mesh3d"
           }
          ],
          "parcoords": [
           {
            "line": {
             "colorbar": {
              "outlinewidth": 0,
              "ticks": ""
             }
            },
            "type": "parcoords"
           }
          ],
          "pie": [
           {
            "automargin": true,
            "type": "pie"
           }
          ],
          "scatter": [
           {
            "marker": {
             "colorbar": {
              "outlinewidth": 0,
              "ticks": ""
             }
            },
            "type": "scatter"
           }
          ],
          "scatter3d": [
           {
            "line": {
             "colorbar": {
              "outlinewidth": 0,
              "ticks": ""
             }
            },
            "marker": {
             "colorbar": {
              "outlinewidth": 0,
              "ticks": ""
             }
            },
            "type": "scatter3d"
           }
          ],
          "scattercarpet": [
           {
            "marker": {
             "colorbar": {
              "outlinewidth": 0,
              "ticks": ""
             }
            },
            "type": "scattercarpet"
           }
          ],
          "scattergeo": [
           {
            "marker": {
             "colorbar": {
              "outlinewidth": 0,
              "ticks": ""
             }
            },
            "type": "scattergeo"
           }
          ],
          "scattergl": [
           {
            "marker": {
             "colorbar": {
              "outlinewidth": 0,
              "ticks": ""
             }
            },
            "type": "scattergl"
           }
          ],
          "scattermapbox": [
           {
            "marker": {
             "colorbar": {
              "outlinewidth": 0,
              "ticks": ""
             }
            },
            "type": "scattermapbox"
           }
          ],
          "scatterpolar": [
           {
            "marker": {
             "colorbar": {
              "outlinewidth": 0,
              "ticks": ""
             }
            },
            "type": "scatterpolar"
           }
          ],
          "scatterpolargl": [
           {
            "marker": {
             "colorbar": {
              "outlinewidth": 0,
              "ticks": ""
             }
            },
            "type": "scatterpolargl"
           }
          ],
          "scatterternary": [
           {
            "marker": {
             "colorbar": {
              "outlinewidth": 0,
              "ticks": ""
             }
            },
            "type": "scatterternary"
           }
          ],
          "surface": [
           {
            "colorbar": {
             "outlinewidth": 0,
             "ticks": ""
            },
            "colorscale": [
             [
              0,
              "#0d0887"
             ],
             [
              0.1111111111111111,
              "#46039f"
             ],
             [
              0.2222222222222222,
              "#7201a8"
             ],
             [
              0.3333333333333333,
              "#9c179e"
             ],
             [
              0.4444444444444444,
              "#bd3786"
             ],
             [
              0.5555555555555556,
              "#d8576b"
             ],
             [
              0.6666666666666666,
              "#ed7953"
             ],
             [
              0.7777777777777778,
              "#fb9f3a"
             ],
             [
              0.8888888888888888,
              "#fdca26"
             ],
             [
              1,
              "#f0f921"
             ]
            ],
            "type": "surface"
           }
          ],
          "table": [
           {
            "cells": {
             "fill": {
              "color": "#EBF0F8"
             },
             "line": {
              "color": "white"
             }
            },
            "header": {
             "fill": {
              "color": "#C8D4E3"
             },
             "line": {
              "color": "white"
             }
            },
            "type": "table"
           }
          ]
         },
         "layout": {
          "annotationdefaults": {
           "arrowcolor": "#2a3f5f",
           "arrowhead": 0,
           "arrowwidth": 1
          },
          "autotypenumbers": "strict",
          "coloraxis": {
           "colorbar": {
            "outlinewidth": 0,
            "ticks": ""
           }
          },
          "colorscale": {
           "diverging": [
            [
             0,
             "#8e0152"
            ],
            [
             0.1,
             "#c51b7d"
            ],
            [
             0.2,
             "#de77ae"
            ],
            [
             0.3,
             "#f1b6da"
            ],
            [
             0.4,
             "#fde0ef"
            ],
            [
             0.5,
             "#f7f7f7"
            ],
            [
             0.6,
             "#e6f5d0"
            ],
            [
             0.7,
             "#b8e186"
            ],
            [
             0.8,
             "#7fbc41"
            ],
            [
             0.9,
             "#4d9221"
            ],
            [
             1,
             "#276419"
            ]
           ],
           "sequential": [
            [
             0,
             "#0d0887"
            ],
            [
             0.1111111111111111,
             "#46039f"
            ],
            [
             0.2222222222222222,
             "#7201a8"
            ],
            [
             0.3333333333333333,
             "#9c179e"
            ],
            [
             0.4444444444444444,
             "#bd3786"
            ],
            [
             0.5555555555555556,
             "#d8576b"
            ],
            [
             0.6666666666666666,
             "#ed7953"
            ],
            [
             0.7777777777777778,
             "#fb9f3a"
            ],
            [
             0.8888888888888888,
             "#fdca26"
            ],
            [
             1,
             "#f0f921"
            ]
           ],
           "sequentialminus": [
            [
             0,
             "#0d0887"
            ],
            [
             0.1111111111111111,
             "#46039f"
            ],
            [
             0.2222222222222222,
             "#7201a8"
            ],
            [
             0.3333333333333333,
             "#9c179e"
            ],
            [
             0.4444444444444444,
             "#bd3786"
            ],
            [
             0.5555555555555556,
             "#d8576b"
            ],
            [
             0.6666666666666666,
             "#ed7953"
            ],
            [
             0.7777777777777778,
             "#fb9f3a"
            ],
            [
             0.8888888888888888,
             "#fdca26"
            ],
            [
             1,
             "#f0f921"
            ]
           ]
          },
          "colorway": [
           "#636efa",
           "#EF553B",
           "#00cc96",
           "#ab63fa",
           "#FFA15A",
           "#19d3f3",
           "#FF6692",
           "#B6E880",
           "#FF97FF",
           "#FECB52"
          ],
          "font": {
           "color": "#2a3f5f"
          },
          "geo": {
           "bgcolor": "white",
           "lakecolor": "white",
           "landcolor": "white",
           "showlakes": true,
           "showland": true,
           "subunitcolor": "#C8D4E3"
          },
          "hoverlabel": {
           "align": "left"
          },
          "hovermode": "closest",
          "mapbox": {
           "style": "light"
          },
          "paper_bgcolor": "white",
          "plot_bgcolor": "white",
          "polar": {
           "angularaxis": {
            "gridcolor": "#EBF0F8",
            "linecolor": "#EBF0F8",
            "ticks": ""
           },
           "bgcolor": "white",
           "radialaxis": {
            "gridcolor": "#EBF0F8",
            "linecolor": "#EBF0F8",
            "ticks": ""
           }
          },
          "scene": {
           "xaxis": {
            "backgroundcolor": "white",
            "gridcolor": "#DFE8F3",
            "gridwidth": 2,
            "linecolor": "#EBF0F8",
            "showbackground": true,
            "ticks": "",
            "zerolinecolor": "#EBF0F8"
           },
           "yaxis": {
            "backgroundcolor": "white",
            "gridcolor": "#DFE8F3",
            "gridwidth": 2,
            "linecolor": "#EBF0F8",
            "showbackground": true,
            "ticks": "",
            "zerolinecolor": "#EBF0F8"
           },
           "zaxis": {
            "backgroundcolor": "white",
            "gridcolor": "#DFE8F3",
            "gridwidth": 2,
            "linecolor": "#EBF0F8",
            "showbackground": true,
            "ticks": "",
            "zerolinecolor": "#EBF0F8"
           }
          },
          "shapedefaults": {
           "line": {
            "color": "#2a3f5f"
           }
          },
          "ternary": {
           "aaxis": {
            "gridcolor": "#DFE8F3",
            "linecolor": "#A2B1C6",
            "ticks": ""
           },
           "baxis": {
            "gridcolor": "#DFE8F3",
            "linecolor": "#A2B1C6",
            "ticks": ""
           },
           "bgcolor": "white",
           "caxis": {
            "gridcolor": "#DFE8F3",
            "linecolor": "#A2B1C6",
            "ticks": ""
           }
          },
          "title": {
           "x": 0.05
          },
          "xaxis": {
           "automargin": true,
           "gridcolor": "#EBF0F8",
           "linecolor": "#EBF0F8",
           "ticks": "",
           "title": {
            "standoff": 15
           },
           "zerolinecolor": "#EBF0F8",
           "zerolinewidth": 2
          },
          "yaxis": {
           "automargin": true,
           "gridcolor": "#EBF0F8",
           "linecolor": "#EBF0F8",
           "ticks": "",
           "title": {
            "standoff": 15
           },
           "zerolinecolor": "#EBF0F8",
           "zerolinewidth": 2
          }
         }
        },
        "xaxis": {
         "anchor": "y",
         "domain": [
          0,
          1
         ],
         "title": {
          "text": "Risk-Free Rate"
         }
        },
        "yaxis": {
         "anchor": "x",
         "domain": [
          0,
          1
         ],
         "title": {
          "text": "Price"
         }
        }
       }
      }
     },
     "metadata": {},
     "output_type": "display_data"
    }
   ],
   "source": [
    "df = []\n",
    "for r in np.linspace(0,0.2,50):\n",
    "  df.append([\n",
    "    r,\n",
    "    closed_form_option_price(S0 = 100, T1 = 0.5, \n",
    "        T2 = 1, r = r, q = 0.05, sigma = 0.3),\n",
    "    vanilla_price(S0 = 100, T = 1, r = r, q = 0.05, sigma = 0.3)\n",
    "  ])\n",
    "df = pd.DataFrame(df, columns = [\"Risk-Free Rate\", \"Reset Put Option\", \"Put Option\"])\n",
    "df = df.melt(id_vars = [\"Risk-Free Rate\"])\n",
    "px.line(df, x = \"Risk-Free Rate\", y = \"value\", color = \"variable\", \n",
    "  labels = {\"value\" : \"Price\", \"variable\" : \"Type\"})"
   ]
  },
  {
   "cell_type": "markdown",
   "metadata": {},
   "source": [
    "### Dividend Yield\n",
    "\n",
    "Afterwards, we perform sensitivity analysis on the dividend yield."
   ]
  },
  {
   "cell_type": "code",
   "execution_count": 13,
   "metadata": {},
   "outputs": [
    {
     "data": {
      "application/vnd.plotly.v1+json": {
       "config": {
        "plotlyServerURL": "https://plot.ly"
       },
       "data": [
        {
         "hovertemplate": "Type=Reset Put Option<br>Dividend Yield=%{x}<br>Price=%{y}<extra></extra>",
         "legendgroup": "Reset Put Option",
         "line": {
          "color": "#636efa",
          "dash": "solid"
         },
         "marker": {
          "symbol": "circle"
         },
         "mode": "lines",
         "name": "Reset Put Option",
         "orientation": "v",
         "showlegend": true,
         "type": "scatter",
         "x": [
          0,
          0.0020408163265306124,
          0.004081632653061225,
          0.006122448979591837,
          0.00816326530612245,
          0.010204081632653062,
          0.012244897959183675,
          0.014285714285714287,
          0.0163265306122449,
          0.018367346938775512,
          0.020408163265306124,
          0.022448979591836737,
          0.02448979591836735,
          0.02653061224489796,
          0.028571428571428574,
          0.030612244897959186,
          0.0326530612244898,
          0.03469387755102041,
          0.036734693877551024,
          0.03877551020408164,
          0.04081632653061225,
          0.04285714285714286,
          0.04489795918367347,
          0.04693877551020409,
          0.0489795918367347,
          0.05102040816326531,
          0.05306122448979592,
          0.05510204081632654,
          0.05714285714285715,
          0.05918367346938776,
          0.06122448979591837,
          0.06326530612244899,
          0.0653061224489796,
          0.0673469387755102,
          0.06938775510204082,
          0.07142857142857144,
          0.07346938775510205,
          0.07551020408163266,
          0.07755102040816328,
          0.07959183673469389,
          0.0816326530612245,
          0.0836734693877551,
          0.08571428571428572,
          0.08775510204081634,
          0.08979591836734695,
          0.09183673469387756,
          0.09387755102040818,
          0.09591836734693879,
          0.0979591836734694,
          0.1
         ],
         "xaxis": "x",
         "y": [
          9.8201508674406,
          9.885850294520115,
          9.9518297440429,
          10.018088922879059,
          10.08462752406281,
          10.15144522678396,
          10.218541696381397,
          10.285916584337926,
          10.353569528277099,
          10.421500151961613,
          10.48970806529357,
          10.558192864316212,
          10.626954131217687,
          10.695991434336264,
          10.765304328167485,
          10.834892353372929,
          10.904755036790739,
          10.974891891447928,
          11.04530241657434,
          11.115986097618372,
          11.186942406264507,
          11.258170800452483,
          11.329670724398145,
          11.40144160861627,
          11.473482869944824,
          11.545793911571192,
          11.618374123059922,
          11.691222880382359,
          11.76433954594792,
          11.837723468637076,
          11.911373983836146,
          11.985290413473635,
          12.059472066058316,
          12.13391823671924,
          12.208628207247038,
          12.283601246137252,
          12.358836608635155,
          12.43433353678235,
          12.51009125946496,
          12.586108992463451,
          12.662385938504293,
          12.738921287313048,
          12.815714215669118,
          12.892763887462348,
          12.970069453750892,
          13.047630052821031,
          13.125444810248283,
          13.203512838960354,
          13.281833239301552,
          13.360405099098728
         ],
         "yaxis": "y"
        },
        {
         "hovertemplate": "Type=Put Option<br>Dividend Yield=%{x}<br>Price=%{y}<extra></extra>",
         "legendgroup": "Put Option",
         "line": {
          "color": "#EF553B",
          "dash": "solid"
         },
         "marker": {
          "symbol": "circle"
         },
         "mode": "lines",
         "name": "Put Option",
         "orientation": "v",
         "showlegend": true,
         "type": "scatter",
         "x": [
          0,
          0.0020408163265306124,
          0.004081632653061225,
          0.006122448979591837,
          0.00816326530612245,
          0.010204081632653062,
          0.012244897959183675,
          0.014285714285714287,
          0.0163265306122449,
          0.018367346938775512,
          0.020408163265306124,
          0.022448979591836737,
          0.02448979591836735,
          0.02653061224489796,
          0.028571428571428574,
          0.030612244897959186,
          0.0326530612244898,
          0.03469387755102041,
          0.036734693877551024,
          0.03877551020408164,
          0.04081632653061225,
          0.04285714285714286,
          0.04489795918367347,
          0.04693877551020409,
          0.0489795918367347,
          0.05102040816326531,
          0.05306122448979592,
          0.05510204081632654,
          0.05714285714285715,
          0.05918367346938776,
          0.06122448979591837,
          0.06326530612244899,
          0.0653061224489796,
          0.0673469387755102,
          0.06938775510204082,
          0.07142857142857144,
          0.07346938775510205,
          0.07551020408163266,
          0.07755102040816328,
          0.07959183673469389,
          0.0816326530612245,
          0.0836734693877551,
          0.08571428571428572,
          0.08775510204081634,
          0.08979591836734695,
          0.09183673469387756,
          0.09387755102040818,
          0.09591836734693879,
          0.0979591836734694,
          0.1
         ],
         "xaxis": "x",
         "y": [
          7.217875385982609,
          7.2822255778366305,
          7.346937473048822,
          7.412010915044121,
          7.477445725388272,
          7.543241703755584,
          7.609398627899736,
          7.675916253627655,
          7.74279431477639,
          7.810032523193371,
          7.877630568719404,
          7.945588119175092,
          8.013904820350191,
          8.082580295996223,
          8.151614147822137,
          8.22100595549312,
          8.290755276632666,
          8.360861646827622,
          8.431324579636517,
          8.502143566600992,
          8.573318077260403,
          8.644847559169591,
          8.716731437919734,
          8.788969117162523,
          8.861559978637246,
          8.934503382201278,
          9.007798665863525,
          9.081445145821142,
          9.155442116499309,
          9.229788850594147,
          9.304484599118872,
          9.379528591452896,
          9.454920035394167,
          9.530658117214614,
          9.606742001718587,
          9.683170832304526,
          9.759943731029573,
          9.837059798677338,
          9.914518114828716,
          9.992317737935664,
          10.070457705398148,
          10.148937033643904,
          10.227754718211443,
          10.306909733835816,
          10.386401034537506,
          10.466227553714155,
          10.54638820423532,
          10.62688187854009,
          10.707707448737601,
          10.788863766710463
         ],
         "yaxis": "y"
        }
       ],
       "layout": {
        "legend": {
         "title": {
          "text": "Type"
         },
         "tracegroupgap": 0
        },
        "margin": {
         "t": 60
        },
        "template": {
         "data": {
          "bar": [
           {
            "error_x": {
             "color": "#2a3f5f"
            },
            "error_y": {
             "color": "#2a3f5f"
            },
            "marker": {
             "line": {
              "color": "white",
              "width": 0.5
             },
             "pattern": {
              "fillmode": "overlay",
              "size": 10,
              "solidity": 0.2
             }
            },
            "type": "bar"
           }
          ],
          "barpolar": [
           {
            "marker": {
             "line": {
              "color": "white",
              "width": 0.5
             },
             "pattern": {
              "fillmode": "overlay",
              "size": 10,
              "solidity": 0.2
             }
            },
            "type": "barpolar"
           }
          ],
          "carpet": [
           {
            "aaxis": {
             "endlinecolor": "#2a3f5f",
             "gridcolor": "#C8D4E3",
             "linecolor": "#C8D4E3",
             "minorgridcolor": "#C8D4E3",
             "startlinecolor": "#2a3f5f"
            },
            "baxis": {
             "endlinecolor": "#2a3f5f",
             "gridcolor": "#C8D4E3",
             "linecolor": "#C8D4E3",
             "minorgridcolor": "#C8D4E3",
             "startlinecolor": "#2a3f5f"
            },
            "type": "carpet"
           }
          ],
          "choropleth": [
           {
            "colorbar": {
             "outlinewidth": 0,
             "ticks": ""
            },
            "type": "choropleth"
           }
          ],
          "contour": [
           {
            "colorbar": {
             "outlinewidth": 0,
             "ticks": ""
            },
            "colorscale": [
             [
              0,
              "#0d0887"
             ],
             [
              0.1111111111111111,
              "#46039f"
             ],
             [
              0.2222222222222222,
              "#7201a8"
             ],
             [
              0.3333333333333333,
              "#9c179e"
             ],
             [
              0.4444444444444444,
              "#bd3786"
             ],
             [
              0.5555555555555556,
              "#d8576b"
             ],
             [
              0.6666666666666666,
              "#ed7953"
             ],
             [
              0.7777777777777778,
              "#fb9f3a"
             ],
             [
              0.8888888888888888,
              "#fdca26"
             ],
             [
              1,
              "#f0f921"
             ]
            ],
            "type": "contour"
           }
          ],
          "contourcarpet": [
           {
            "colorbar": {
             "outlinewidth": 0,
             "ticks": ""
            },
            "type": "contourcarpet"
           }
          ],
          "heatmap": [
           {
            "colorbar": {
             "outlinewidth": 0,
             "ticks": ""
            },
            "colorscale": [
             [
              0,
              "#0d0887"
             ],
             [
              0.1111111111111111,
              "#46039f"
             ],
             [
              0.2222222222222222,
              "#7201a8"
             ],
             [
              0.3333333333333333,
              "#9c179e"
             ],
             [
              0.4444444444444444,
              "#bd3786"
             ],
             [
              0.5555555555555556,
              "#d8576b"
             ],
             [
              0.6666666666666666,
              "#ed7953"
             ],
             [
              0.7777777777777778,
              "#fb9f3a"
             ],
             [
              0.8888888888888888,
              "#fdca26"
             ],
             [
              1,
              "#f0f921"
             ]
            ],
            "type": "heatmap"
           }
          ],
          "heatmapgl": [
           {
            "colorbar": {
             "outlinewidth": 0,
             "ticks": ""
            },
            "colorscale": [
             [
              0,
              "#0d0887"
             ],
             [
              0.1111111111111111,
              "#46039f"
             ],
             [
              0.2222222222222222,
              "#7201a8"
             ],
             [
              0.3333333333333333,
              "#9c179e"
             ],
             [
              0.4444444444444444,
              "#bd3786"
             ],
             [
              0.5555555555555556,
              "#d8576b"
             ],
             [
              0.6666666666666666,
              "#ed7953"
             ],
             [
              0.7777777777777778,
              "#fb9f3a"
             ],
             [
              0.8888888888888888,
              "#fdca26"
             ],
             [
              1,
              "#f0f921"
             ]
            ],
            "type": "heatmapgl"
           }
          ],
          "histogram": [
           {
            "marker": {
             "pattern": {
              "fillmode": "overlay",
              "size": 10,
              "solidity": 0.2
             }
            },
            "type": "histogram"
           }
          ],
          "histogram2d": [
           {
            "colorbar": {
             "outlinewidth": 0,
             "ticks": ""
            },
            "colorscale": [
             [
              0,
              "#0d0887"
             ],
             [
              0.1111111111111111,
              "#46039f"
             ],
             [
              0.2222222222222222,
              "#7201a8"
             ],
             [
              0.3333333333333333,
              "#9c179e"
             ],
             [
              0.4444444444444444,
              "#bd3786"
             ],
             [
              0.5555555555555556,
              "#d8576b"
             ],
             [
              0.6666666666666666,
              "#ed7953"
             ],
             [
              0.7777777777777778,
              "#fb9f3a"
             ],
             [
              0.8888888888888888,
              "#fdca26"
             ],
             [
              1,
              "#f0f921"
             ]
            ],
            "type": "histogram2d"
           }
          ],
          "histogram2dcontour": [
           {
            "colorbar": {
             "outlinewidth": 0,
             "ticks": ""
            },
            "colorscale": [
             [
              0,
              "#0d0887"
             ],
             [
              0.1111111111111111,
              "#46039f"
             ],
             [
              0.2222222222222222,
              "#7201a8"
             ],
             [
              0.3333333333333333,
              "#9c179e"
             ],
             [
              0.4444444444444444,
              "#bd3786"
             ],
             [
              0.5555555555555556,
              "#d8576b"
             ],
             [
              0.6666666666666666,
              "#ed7953"
             ],
             [
              0.7777777777777778,
              "#fb9f3a"
             ],
             [
              0.8888888888888888,
              "#fdca26"
             ],
             [
              1,
              "#f0f921"
             ]
            ],
            "type": "histogram2dcontour"
           }
          ],
          "mesh3d": [
           {
            "colorbar": {
             "outlinewidth": 0,
             "ticks": ""
            },
            "type": "mesh3d"
           }
          ],
          "parcoords": [
           {
            "line": {
             "colorbar": {
              "outlinewidth": 0,
              "ticks": ""
             }
            },
            "type": "parcoords"
           }
          ],
          "pie": [
           {
            "automargin": true,
            "type": "pie"
           }
          ],
          "scatter": [
           {
            "marker": {
             "colorbar": {
              "outlinewidth": 0,
              "ticks": ""
             }
            },
            "type": "scatter"
           }
          ],
          "scatter3d": [
           {
            "line": {
             "colorbar": {
              "outlinewidth": 0,
              "ticks": ""
             }
            },
            "marker": {
             "colorbar": {
              "outlinewidth": 0,
              "ticks": ""
             }
            },
            "type": "scatter3d"
           }
          ],
          "scattercarpet": [
           {
            "marker": {
             "colorbar": {
              "outlinewidth": 0,
              "ticks": ""
             }
            },
            "type": "scattercarpet"
           }
          ],
          "scattergeo": [
           {
            "marker": {
             "colorbar": {
              "outlinewidth": 0,
              "ticks": ""
             }
            },
            "type": "scattergeo"
           }
          ],
          "scattergl": [
           {
            "marker": {
             "colorbar": {
              "outlinewidth": 0,
              "ticks": ""
             }
            },
            "type": "scattergl"
           }
          ],
          "scattermapbox": [
           {
            "marker": {
             "colorbar": {
              "outlinewidth": 0,
              "ticks": ""
             }
            },
            "type": "scattermapbox"
           }
          ],
          "scatterpolar": [
           {
            "marker": {
             "colorbar": {
              "outlinewidth": 0,
              "ticks": ""
             }
            },
            "type": "scatterpolar"
           }
          ],
          "scatterpolargl": [
           {
            "marker": {
             "colorbar": {
              "outlinewidth": 0,
              "ticks": ""
             }
            },
            "type": "scatterpolargl"
           }
          ],
          "scatterternary": [
           {
            "marker": {
             "colorbar": {
              "outlinewidth": 0,
              "ticks": ""
             }
            },
            "type": "scatterternary"
           }
          ],
          "surface": [
           {
            "colorbar": {
             "outlinewidth": 0,
             "ticks": ""
            },
            "colorscale": [
             [
              0,
              "#0d0887"
             ],
             [
              0.1111111111111111,
              "#46039f"
             ],
             [
              0.2222222222222222,
              "#7201a8"
             ],
             [
              0.3333333333333333,
              "#9c179e"
             ],
             [
              0.4444444444444444,
              "#bd3786"
             ],
             [
              0.5555555555555556,
              "#d8576b"
             ],
             [
              0.6666666666666666,
              "#ed7953"
             ],
             [
              0.7777777777777778,
              "#fb9f3a"
             ],
             [
              0.8888888888888888,
              "#fdca26"
             ],
             [
              1,
              "#f0f921"
             ]
            ],
            "type": "surface"
           }
          ],
          "table": [
           {
            "cells": {
             "fill": {
              "color": "#EBF0F8"
             },
             "line": {
              "color": "white"
             }
            },
            "header": {
             "fill": {
              "color": "#C8D4E3"
             },
             "line": {
              "color": "white"
             }
            },
            "type": "table"
           }
          ]
         },
         "layout": {
          "annotationdefaults": {
           "arrowcolor": "#2a3f5f",
           "arrowhead": 0,
           "arrowwidth": 1
          },
          "autotypenumbers": "strict",
          "coloraxis": {
           "colorbar": {
            "outlinewidth": 0,
            "ticks": ""
           }
          },
          "colorscale": {
           "diverging": [
            [
             0,
             "#8e0152"
            ],
            [
             0.1,
             "#c51b7d"
            ],
            [
             0.2,
             "#de77ae"
            ],
            [
             0.3,
             "#f1b6da"
            ],
            [
             0.4,
             "#fde0ef"
            ],
            [
             0.5,
             "#f7f7f7"
            ],
            [
             0.6,
             "#e6f5d0"
            ],
            [
             0.7,
             "#b8e186"
            ],
            [
             0.8,
             "#7fbc41"
            ],
            [
             0.9,
             "#4d9221"
            ],
            [
             1,
             "#276419"
            ]
           ],
           "sequential": [
            [
             0,
             "#0d0887"
            ],
            [
             0.1111111111111111,
             "#46039f"
            ],
            [
             0.2222222222222222,
             "#7201a8"
            ],
            [
             0.3333333333333333,
             "#9c179e"
            ],
            [
             0.4444444444444444,
             "#bd3786"
            ],
            [
             0.5555555555555556,
             "#d8576b"
            ],
            [
             0.6666666666666666,
             "#ed7953"
            ],
            [
             0.7777777777777778,
             "#fb9f3a"
            ],
            [
             0.8888888888888888,
             "#fdca26"
            ],
            [
             1,
             "#f0f921"
            ]
           ],
           "sequentialminus": [
            [
             0,
             "#0d0887"
            ],
            [
             0.1111111111111111,
             "#46039f"
            ],
            [
             0.2222222222222222,
             "#7201a8"
            ],
            [
             0.3333333333333333,
             "#9c179e"
            ],
            [
             0.4444444444444444,
             "#bd3786"
            ],
            [
             0.5555555555555556,
             "#d8576b"
            ],
            [
             0.6666666666666666,
             "#ed7953"
            ],
            [
             0.7777777777777778,
             "#fb9f3a"
            ],
            [
             0.8888888888888888,
             "#fdca26"
            ],
            [
             1,
             "#f0f921"
            ]
           ]
          },
          "colorway": [
           "#636efa",
           "#EF553B",
           "#00cc96",
           "#ab63fa",
           "#FFA15A",
           "#19d3f3",
           "#FF6692",
           "#B6E880",
           "#FF97FF",
           "#FECB52"
          ],
          "font": {
           "color": "#2a3f5f"
          },
          "geo": {
           "bgcolor": "white",
           "lakecolor": "white",
           "landcolor": "white",
           "showlakes": true,
           "showland": true,
           "subunitcolor": "#C8D4E3"
          },
          "hoverlabel": {
           "align": "left"
          },
          "hovermode": "closest",
          "mapbox": {
           "style": "light"
          },
          "paper_bgcolor": "white",
          "plot_bgcolor": "white",
          "polar": {
           "angularaxis": {
            "gridcolor": "#EBF0F8",
            "linecolor": "#EBF0F8",
            "ticks": ""
           },
           "bgcolor": "white",
           "radialaxis": {
            "gridcolor": "#EBF0F8",
            "linecolor": "#EBF0F8",
            "ticks": ""
           }
          },
          "scene": {
           "xaxis": {
            "backgroundcolor": "white",
            "gridcolor": "#DFE8F3",
            "gridwidth": 2,
            "linecolor": "#EBF0F8",
            "showbackground": true,
            "ticks": "",
            "zerolinecolor": "#EBF0F8"
           },
           "yaxis": {
            "backgroundcolor": "white",
            "gridcolor": "#DFE8F3",
            "gridwidth": 2,
            "linecolor": "#EBF0F8",
            "showbackground": true,
            "ticks": "",
            "zerolinecolor": "#EBF0F8"
           },
           "zaxis": {
            "backgroundcolor": "white",
            "gridcolor": "#DFE8F3",
            "gridwidth": 2,
            "linecolor": "#EBF0F8",
            "showbackground": true,
            "ticks": "",
            "zerolinecolor": "#EBF0F8"
           }
          },
          "shapedefaults": {
           "line": {
            "color": "#2a3f5f"
           }
          },
          "ternary": {
           "aaxis": {
            "gridcolor": "#DFE8F3",
            "linecolor": "#A2B1C6",
            "ticks": ""
           },
           "baxis": {
            "gridcolor": "#DFE8F3",
            "linecolor": "#A2B1C6",
            "ticks": ""
           },
           "bgcolor": "white",
           "caxis": {
            "gridcolor": "#DFE8F3",
            "linecolor": "#A2B1C6",
            "ticks": ""
           }
          },
          "title": {
           "x": 0.05
          },
          "xaxis": {
           "automargin": true,
           "gridcolor": "#EBF0F8",
           "linecolor": "#EBF0F8",
           "ticks": "",
           "title": {
            "standoff": 15
           },
           "zerolinecolor": "#EBF0F8",
           "zerolinewidth": 2
          },
          "yaxis": {
           "automargin": true,
           "gridcolor": "#EBF0F8",
           "linecolor": "#EBF0F8",
           "ticks": "",
           "title": {
            "standoff": 15
           },
           "zerolinecolor": "#EBF0F8",
           "zerolinewidth": 2
          }
         }
        },
        "xaxis": {
         "anchor": "y",
         "domain": [
          0,
          1
         ],
         "title": {
          "text": "Dividend Yield"
         }
        },
        "yaxis": {
         "anchor": "x",
         "domain": [
          0,
          1
         ],
         "title": {
          "text": "Price"
         }
        }
       }
      }
     },
     "metadata": {},
     "output_type": "display_data"
    }
   ],
   "source": [
    "df = []\n",
    "for q in np.linspace(0,0.1,50):\n",
    "  df.append([\n",
    "    q,\n",
    "    closed_form_option_price(S0 = 100, T1 = 0.5, \n",
    "        T2 = 1, r = 0.1, q = q, sigma = 0.3),\n",
    "    vanilla_price(S0 = 100, T = 1, r = 0.1, q = q, sigma = 0.3)\n",
    "  ])\n",
    "df = pd.DataFrame(df, columns = [\"Dividend Yield\", \"Reset Put Option\", \"Put Option\"])\n",
    "df = df.melt(id_vars = [\"Dividend Yield\"])\n",
    "px.line(df, x = \"Dividend Yield\", y = \"value\", color = \"variable\", \n",
    "  labels = {\"value\" : \"Price\", \"variable\" : \"Type\"})"
   ]
  },
  {
   "cell_type": "markdown",
   "metadata": {},
   "source": [
    "### Volatility\n",
    "\n",
    "Finally, we perform sensitivity analysis on the volatility."
   ]
  },
  {
   "cell_type": "code",
   "execution_count": 14,
   "metadata": {},
   "outputs": [
    {
     "data": {
      "application/vnd.plotly.v1+json": {
       "config": {
        "plotlyServerURL": "https://plot.ly"
       },
       "data": [
        {
         "hovertemplate": "Type=Reset Put Option<br>Volatility=%{x}<br>Price=%{y}<extra></extra>",
         "legendgroup": "Reset Put Option",
         "line": {
          "color": "#636efa",
          "dash": "solid"
         },
         "marker": {
          "symbol": "circle"
         },
         "mode": "lines",
         "name": "Reset Put Option",
         "orientation": "v",
         "showlegend": true,
         "type": "scatter",
         "x": [
          0.0001,
          0.01030204081632653,
          0.020504081632653062,
          0.030706122448979595,
          0.04090816326530613,
          0.05111020408163266,
          0.061312244897959195,
          0.07151428571428572,
          0.08171632653061225,
          0.09191836734693878,
          0.10212040816326531,
          0.11232244897959184,
          0.12252448979591839,
          0.1327265306122449,
          0.14292857142857143,
          0.15313061224489796,
          0.1633326530612245,
          0.17353469387755102,
          0.18373673469387755,
          0.19393877551020408,
          0.2041408163265306,
          0.21434285714285714,
          0.22454489795918367,
          0.2347469387755102,
          0.24494897959183676,
          0.2551510204081633,
          0.2653530612244898,
          0.27555510204081635,
          0.2857571428571429,
          0.2959591836734694,
          0.30616122448979594,
          0.31636326530612247,
          0.326565306122449,
          0.3367673469387755,
          0.34696938775510205,
          0.3571714285714286,
          0.3673734693877551,
          0.37757551020408164,
          0.3877775510204082,
          0.3979795918367347,
          0.40818163265306123,
          0.41838367346938776,
          0.4285857142857143,
          0.4387877551020408,
          0.44898979591836735,
          0.4591918367346939,
          0.4693938775510204,
          0.47959591836734694,
          0.4897979591836735,
          0.5
         ],
         "xaxis": "x",
         "y": [
          0,
          0.00005242231262798581,
          0.025774815372837045,
          0.1573451904778107,
          0.3933579676463692,
          0.6989219205056667,
          1.048558152920755,
          1.4269332363153033,
          1.8248663313400222,
          2.2366747340083144,
          2.658699705705441,
          3.0884959403371752,
          3.5243735538435637,
          3.9651298319603256,
          4.409886369197878,
          4.8579868282323915,
          5.308930777994174,
          5.762329696000304,
          6.217876986479169,
          6.675327096869012,
          7.13448068220303,
          7.595173876840196,
          8.057270410468224,
          8.520655728897715,
          8.985232550946655,
          9.450917469355783,
          9.91763832107944,
          10.38533213167739,
          10.853943493067142,
          11.323423271909924,
          11.793727572769587,
          12.264816899407538,
          12.736655471500129,
          13.209210664256982,
          13.68245254595972,
          14.156353494070363,
          14.63088787480513,
          15.106031774293541,
          15.581762771916214,
          16.058059748322812,
          16.534902722115856,
          17.012272710348153,
          17.49015160889755,
          17.968522089507697,
          18.44736751086401,
          18.926671841535914,
          19.406419592992833,
          19.88659576120242,
          20.367185775567748,
          20.848175454161264
         ],
         "yaxis": "y"
        },
        {
         "hovertemplate": "Type=Put Option<br>Volatility=%{x}<br>Price=%{y}<extra></extra>",
         "legendgroup": "Put Option",
         "line": {
          "color": "#EF553B",
          "dash": "solid"
         },
         "marker": {
          "symbol": "circle"
         },
         "mode": "lines",
         "name": "Put Option",
         "orientation": "v",
         "showlegend": true,
         "type": "scatter",
         "x": [
          0.0001,
          0.01030204081632653,
          0.020504081632653062,
          0.030706122448979595,
          0.04090816326530613,
          0.05111020408163266,
          0.061312244897959195,
          0.07151428571428572,
          0.08171632653061225,
          0.09191836734693878,
          0.10212040816326531,
          0.11232244897959184,
          0.12252448979591839,
          0.1327265306122449,
          0.14292857142857143,
          0.15313061224489796,
          0.1633326530612245,
          0.17353469387755102,
          0.18373673469387755,
          0.19393877551020408,
          0.2041408163265306,
          0.21434285714285714,
          0.22454489795918367,
          0.2347469387755102,
          0.24494897959183676,
          0.2551510204081633,
          0.2653530612244898,
          0.27555510204081635,
          0.2857571428571429,
          0.2959591836734694,
          0.30616122448979594,
          0.31636326530612247,
          0.326565306122449,
          0.3367673469387755,
          0.34696938775510205,
          0.3571714285714286,
          0.3673734693877551,
          0.37757551020408164,
          0.3877775510204082,
          0.3979795918367347,
          0.40818163265306123,
          0.41838367346938776,
          0.4285857142857143,
          0.4387877551020408,
          0.44898979591836735,
          0.4591918367346939,
          0.4693938775510204,
          0.47959591836734694,
          0.4897979591836735,
          0.5
         ],
         "xaxis": "x",
         "y": [
          0,
          1.1101021565281313e-7,
          0.004604484235795403,
          0.06190582169550485,
          0.2033566775736233,
          0.4115874766867371,
          0.6650987051348451,
          0.9489653944446239,
          1.2536632287029263,
          1.5730880509346719,
          1.9032249401629784,
          2.2413523478961785,
          2.585570856706834,
          2.9345189416937885,
          3.2871969221425275,
          3.642854849432034,
          4.000919179539537,
          4.360943609391164,
          4.722575358142144,
          5.0855315590609536,
          5.4495824174240255,
          5.8145389886472785,
          6.180244170344011,
          6.54656596830722,
          6.913392396589813,
          7.2806275688189075,
          7.648188669433985,
          8.01600358286106,
          8.384009020218443,
          8.752149026213814,
          9.120373779408034,
          9.488638620911871,
          9.85690326246786,
          10.225131136522315,
          10.593288859526346,
          10.961345786163918,
          11.329273637078785,
          11.697046186382146,
          12.064638998068517,
          12.432029202666428,
          12.799195307162748,
          13.166117032580857,
          13.532775174650276,
          13.899151483845053,
          14.265228561737679,
          14.6309897711523,
          14.996419158034783,
          15.361501383308038,
          15.726221663266976,
          16.090565717301715
         ],
         "yaxis": "y"
        }
       ],
       "layout": {
        "legend": {
         "title": {
          "text": "Type"
         },
         "tracegroupgap": 0
        },
        "margin": {
         "t": 60
        },
        "template": {
         "data": {
          "bar": [
           {
            "error_x": {
             "color": "#2a3f5f"
            },
            "error_y": {
             "color": "#2a3f5f"
            },
            "marker": {
             "line": {
              "color": "white",
              "width": 0.5
             },
             "pattern": {
              "fillmode": "overlay",
              "size": 10,
              "solidity": 0.2
             }
            },
            "type": "bar"
           }
          ],
          "barpolar": [
           {
            "marker": {
             "line": {
              "color": "white",
              "width": 0.5
             },
             "pattern": {
              "fillmode": "overlay",
              "size": 10,
              "solidity": 0.2
             }
            },
            "type": "barpolar"
           }
          ],
          "carpet": [
           {
            "aaxis": {
             "endlinecolor": "#2a3f5f",
             "gridcolor": "#C8D4E3",
             "linecolor": "#C8D4E3",
             "minorgridcolor": "#C8D4E3",
             "startlinecolor": "#2a3f5f"
            },
            "baxis": {
             "endlinecolor": "#2a3f5f",
             "gridcolor": "#C8D4E3",
             "linecolor": "#C8D4E3",
             "minorgridcolor": "#C8D4E3",
             "startlinecolor": "#2a3f5f"
            },
            "type": "carpet"
           }
          ],
          "choropleth": [
           {
            "colorbar": {
             "outlinewidth": 0,
             "ticks": ""
            },
            "type": "choropleth"
           }
          ],
          "contour": [
           {
            "colorbar": {
             "outlinewidth": 0,
             "ticks": ""
            },
            "colorscale": [
             [
              0,
              "#0d0887"
             ],
             [
              0.1111111111111111,
              "#46039f"
             ],
             [
              0.2222222222222222,
              "#7201a8"
             ],
             [
              0.3333333333333333,
              "#9c179e"
             ],
             [
              0.4444444444444444,
              "#bd3786"
             ],
             [
              0.5555555555555556,
              "#d8576b"
             ],
             [
              0.6666666666666666,
              "#ed7953"
             ],
             [
              0.7777777777777778,
              "#fb9f3a"
             ],
             [
              0.8888888888888888,
              "#fdca26"
             ],
             [
              1,
              "#f0f921"
             ]
            ],
            "type": "contour"
           }
          ],
          "contourcarpet": [
           {
            "colorbar": {
             "outlinewidth": 0,
             "ticks": ""
            },
            "type": "contourcarpet"
           }
          ],
          "heatmap": [
           {
            "colorbar": {
             "outlinewidth": 0,
             "ticks": ""
            },
            "colorscale": [
             [
              0,
              "#0d0887"
             ],
             [
              0.1111111111111111,
              "#46039f"
             ],
             [
              0.2222222222222222,
              "#7201a8"
             ],
             [
              0.3333333333333333,
              "#9c179e"
             ],
             [
              0.4444444444444444,
              "#bd3786"
             ],
             [
              0.5555555555555556,
              "#d8576b"
             ],
             [
              0.6666666666666666,
              "#ed7953"
             ],
             [
              0.7777777777777778,
              "#fb9f3a"
             ],
             [
              0.8888888888888888,
              "#fdca26"
             ],
             [
              1,
              "#f0f921"
             ]
            ],
            "type": "heatmap"
           }
          ],
          "heatmapgl": [
           {
            "colorbar": {
             "outlinewidth": 0,
             "ticks": ""
            },
            "colorscale": [
             [
              0,
              "#0d0887"
             ],
             [
              0.1111111111111111,
              "#46039f"
             ],
             [
              0.2222222222222222,
              "#7201a8"
             ],
             [
              0.3333333333333333,
              "#9c179e"
             ],
             [
              0.4444444444444444,
              "#bd3786"
             ],
             [
              0.5555555555555556,
              "#d8576b"
             ],
             [
              0.6666666666666666,
              "#ed7953"
             ],
             [
              0.7777777777777778,
              "#fb9f3a"
             ],
             [
              0.8888888888888888,
              "#fdca26"
             ],
             [
              1,
              "#f0f921"
             ]
            ],
            "type": "heatmapgl"
           }
          ],
          "histogram": [
           {
            "marker": {
             "pattern": {
              "fillmode": "overlay",
              "size": 10,
              "solidity": 0.2
             }
            },
            "type": "histogram"
           }
          ],
          "histogram2d": [
           {
            "colorbar": {
             "outlinewidth": 0,
             "ticks": ""
            },
            "colorscale": [
             [
              0,
              "#0d0887"
             ],
             [
              0.1111111111111111,
              "#46039f"
             ],
             [
              0.2222222222222222,
              "#7201a8"
             ],
             [
              0.3333333333333333,
              "#9c179e"
             ],
             [
              0.4444444444444444,
              "#bd3786"
             ],
             [
              0.5555555555555556,
              "#d8576b"
             ],
             [
              0.6666666666666666,
              "#ed7953"
             ],
             [
              0.7777777777777778,
              "#fb9f3a"
             ],
             [
              0.8888888888888888,
              "#fdca26"
             ],
             [
              1,
              "#f0f921"
             ]
            ],
            "type": "histogram2d"
           }
          ],
          "histogram2dcontour": [
           {
            "colorbar": {
             "outlinewidth": 0,
             "ticks": ""
            },
            "colorscale": [
             [
              0,
              "#0d0887"
             ],
             [
              0.1111111111111111,
              "#46039f"
             ],
             [
              0.2222222222222222,
              "#7201a8"
             ],
             [
              0.3333333333333333,
              "#9c179e"
             ],
             [
              0.4444444444444444,
              "#bd3786"
             ],
             [
              0.5555555555555556,
              "#d8576b"
             ],
             [
              0.6666666666666666,
              "#ed7953"
             ],
             [
              0.7777777777777778,
              "#fb9f3a"
             ],
             [
              0.8888888888888888,
              "#fdca26"
             ],
             [
              1,
              "#f0f921"
             ]
            ],
            "type": "histogram2dcontour"
           }
          ],
          "mesh3d": [
           {
            "colorbar": {
             "outlinewidth": 0,
             "ticks": ""
            },
            "type": "mesh3d"
           }
          ],
          "parcoords": [
           {
            "line": {
             "colorbar": {
              "outlinewidth": 0,
              "ticks": ""
             }
            },
            "type": "parcoords"
           }
          ],
          "pie": [
           {
            "automargin": true,
            "type": "pie"
           }
          ],
          "scatter": [
           {
            "marker": {
             "colorbar": {
              "outlinewidth": 0,
              "ticks": ""
             }
            },
            "type": "scatter"
           }
          ],
          "scatter3d": [
           {
            "line": {
             "colorbar": {
              "outlinewidth": 0,
              "ticks": ""
             }
            },
            "marker": {
             "colorbar": {
              "outlinewidth": 0,
              "ticks": ""
             }
            },
            "type": "scatter3d"
           }
          ],
          "scattercarpet": [
           {
            "marker": {
             "colorbar": {
              "outlinewidth": 0,
              "ticks": ""
             }
            },
            "type": "scattercarpet"
           }
          ],
          "scattergeo": [
           {
            "marker": {
             "colorbar": {
              "outlinewidth": 0,
              "ticks": ""
             }
            },
            "type": "scattergeo"
           }
          ],
          "scattergl": [
           {
            "marker": {
             "colorbar": {
              "outlinewidth": 0,
              "ticks": ""
             }
            },
            "type": "scattergl"
           }
          ],
          "scattermapbox": [
           {
            "marker": {
             "colorbar": {
              "outlinewidth": 0,
              "ticks": ""
             }
            },
            "type": "scattermapbox"
           }
          ],
          "scatterpolar": [
           {
            "marker": {
             "colorbar": {
              "outlinewidth": 0,
              "ticks": ""
             }
            },
            "type": "scatterpolar"
           }
          ],
          "scatterpolargl": [
           {
            "marker": {
             "colorbar": {
              "outlinewidth": 0,
              "ticks": ""
             }
            },
            "type": "scatterpolargl"
           }
          ],
          "scatterternary": [
           {
            "marker": {
             "colorbar": {
              "outlinewidth": 0,
              "ticks": ""
             }
            },
            "type": "scatterternary"
           }
          ],
          "surface": [
           {
            "colorbar": {
             "outlinewidth": 0,
             "ticks": ""
            },
            "colorscale": [
             [
              0,
              "#0d0887"
             ],
             [
              0.1111111111111111,
              "#46039f"
             ],
             [
              0.2222222222222222,
              "#7201a8"
             ],
             [
              0.3333333333333333,
              "#9c179e"
             ],
             [
              0.4444444444444444,
              "#bd3786"
             ],
             [
              0.5555555555555556,
              "#d8576b"
             ],
             [
              0.6666666666666666,
              "#ed7953"
             ],
             [
              0.7777777777777778,
              "#fb9f3a"
             ],
             [
              0.8888888888888888,
              "#fdca26"
             ],
             [
              1,
              "#f0f921"
             ]
            ],
            "type": "surface"
           }
          ],
          "table": [
           {
            "cells": {
             "fill": {
              "color": "#EBF0F8"
             },
             "line": {
              "color": "white"
             }
            },
            "header": {
             "fill": {
              "color": "#C8D4E3"
             },
             "line": {
              "color": "white"
             }
            },
            "type": "table"
           }
          ]
         },
         "layout": {
          "annotationdefaults": {
           "arrowcolor": "#2a3f5f",
           "arrowhead": 0,
           "arrowwidth": 1
          },
          "autotypenumbers": "strict",
          "coloraxis": {
           "colorbar": {
            "outlinewidth": 0,
            "ticks": ""
           }
          },
          "colorscale": {
           "diverging": [
            [
             0,
             "#8e0152"
            ],
            [
             0.1,
             "#c51b7d"
            ],
            [
             0.2,
             "#de77ae"
            ],
            [
             0.3,
             "#f1b6da"
            ],
            [
             0.4,
             "#fde0ef"
            ],
            [
             0.5,
             "#f7f7f7"
            ],
            [
             0.6,
             "#e6f5d0"
            ],
            [
             0.7,
             "#b8e186"
            ],
            [
             0.8,
             "#7fbc41"
            ],
            [
             0.9,
             "#4d9221"
            ],
            [
             1,
             "#276419"
            ]
           ],
           "sequential": [
            [
             0,
             "#0d0887"
            ],
            [
             0.1111111111111111,
             "#46039f"
            ],
            [
             0.2222222222222222,
             "#7201a8"
            ],
            [
             0.3333333333333333,
             "#9c179e"
            ],
            [
             0.4444444444444444,
             "#bd3786"
            ],
            [
             0.5555555555555556,
             "#d8576b"
            ],
            [
             0.6666666666666666,
             "#ed7953"
            ],
            [
             0.7777777777777778,
             "#fb9f3a"
            ],
            [
             0.8888888888888888,
             "#fdca26"
            ],
            [
             1,
             "#f0f921"
            ]
           ],
           "sequentialminus": [
            [
             0,
             "#0d0887"
            ],
            [
             0.1111111111111111,
             "#46039f"
            ],
            [
             0.2222222222222222,
             "#7201a8"
            ],
            [
             0.3333333333333333,
             "#9c179e"
            ],
            [
             0.4444444444444444,
             "#bd3786"
            ],
            [
             0.5555555555555556,
             "#d8576b"
            ],
            [
             0.6666666666666666,
             "#ed7953"
            ],
            [
             0.7777777777777778,
             "#fb9f3a"
            ],
            [
             0.8888888888888888,
             "#fdca26"
            ],
            [
             1,
             "#f0f921"
            ]
           ]
          },
          "colorway": [
           "#636efa",
           "#EF553B",
           "#00cc96",
           "#ab63fa",
           "#FFA15A",
           "#19d3f3",
           "#FF6692",
           "#B6E880",
           "#FF97FF",
           "#FECB52"
          ],
          "font": {
           "color": "#2a3f5f"
          },
          "geo": {
           "bgcolor": "white",
           "lakecolor": "white",
           "landcolor": "white",
           "showlakes": true,
           "showland": true,
           "subunitcolor": "#C8D4E3"
          },
          "hoverlabel": {
           "align": "left"
          },
          "hovermode": "closest",
          "mapbox": {
           "style": "light"
          },
          "paper_bgcolor": "white",
          "plot_bgcolor": "white",
          "polar": {
           "angularaxis": {
            "gridcolor": "#EBF0F8",
            "linecolor": "#EBF0F8",
            "ticks": ""
           },
           "bgcolor": "white",
           "radialaxis": {
            "gridcolor": "#EBF0F8",
            "linecolor": "#EBF0F8",
            "ticks": ""
           }
          },
          "scene": {
           "xaxis": {
            "backgroundcolor": "white",
            "gridcolor": "#DFE8F3",
            "gridwidth": 2,
            "linecolor": "#EBF0F8",
            "showbackground": true,
            "ticks": "",
            "zerolinecolor": "#EBF0F8"
           },
           "yaxis": {
            "backgroundcolor": "white",
            "gridcolor": "#DFE8F3",
            "gridwidth": 2,
            "linecolor": "#EBF0F8",
            "showbackground": true,
            "ticks": "",
            "zerolinecolor": "#EBF0F8"
           },
           "zaxis": {
            "backgroundcolor": "white",
            "gridcolor": "#DFE8F3",
            "gridwidth": 2,
            "linecolor": "#EBF0F8",
            "showbackground": true,
            "ticks": "",
            "zerolinecolor": "#EBF0F8"
           }
          },
          "shapedefaults": {
           "line": {
            "color": "#2a3f5f"
           }
          },
          "ternary": {
           "aaxis": {
            "gridcolor": "#DFE8F3",
            "linecolor": "#A2B1C6",
            "ticks": ""
           },
           "baxis": {
            "gridcolor": "#DFE8F3",
            "linecolor": "#A2B1C6",
            "ticks": ""
           },
           "bgcolor": "white",
           "caxis": {
            "gridcolor": "#DFE8F3",
            "linecolor": "#A2B1C6",
            "ticks": ""
           }
          },
          "title": {
           "x": 0.05
          },
          "xaxis": {
           "automargin": true,
           "gridcolor": "#EBF0F8",
           "linecolor": "#EBF0F8",
           "ticks": "",
           "title": {
            "standoff": 15
           },
           "zerolinecolor": "#EBF0F8",
           "zerolinewidth": 2
          },
          "yaxis": {
           "automargin": true,
           "gridcolor": "#EBF0F8",
           "linecolor": "#EBF0F8",
           "ticks": "",
           "title": {
            "standoff": 15
           },
           "zerolinecolor": "#EBF0F8",
           "zerolinewidth": 2
          }
         }
        },
        "xaxis": {
         "anchor": "y",
         "domain": [
          0,
          1
         ],
         "title": {
          "text": "Volatility"
         }
        },
        "yaxis": {
         "anchor": "x",
         "domain": [
          0,
          1
         ],
         "title": {
          "text": "Price"
         }
        }
       }
      }
     },
     "metadata": {},
     "output_type": "display_data"
    }
   ],
   "source": [
    "df = []\n",
    "for sigma in np.linspace(0.0001,0.5,50):\n",
    "  df.append([\n",
    "    sigma,\n",
    "    closed_form_option_price(S0 = 100, T1 = 0.5, \n",
    "        T2 = 1, r = 0.1, q = 0.05, sigma = sigma),\n",
    "    vanilla_price(S0 = 100, T = 1, r = 0.1, q = 0.05, sigma = sigma)\n",
    "  ])\n",
    "df = pd.DataFrame(df, columns = [\"Volatility\", \"Reset Put Option\", \"Put Option\"])\n",
    "df = df.melt(id_vars = [\"Volatility\"])\n",
    "px.line(df, x = \"Volatility\", y = \"value\", color = \"variable\", \n",
    "  labels = {\"value\" : \"Price\", \"variable\" : \"Type\"})"
   ]
  }
 ],
 "metadata": {
  "interpreter": {
   "hash": "f92044c759060aa9415554cca52d08b8cabe1752aed1786f0486d8d814e0857f"
  },
  "kernelspec": {
   "display_name": "Python 3.8.8 64-bit ('base': conda)",
   "name": "python3"
  },
  "language_info": {
   "codemirror_mode": {
    "name": "ipython",
    "version": 3
   },
   "file_extension": ".py",
   "mimetype": "text/x-python",
   "name": "python",
   "nbconvert_exporter": "python",
   "pygments_lexer": "ipython3",
   "version": "3.8.8"
  },
  "orig_nbformat": 4
 },
 "nbformat": 4,
 "nbformat_minor": 2
}
